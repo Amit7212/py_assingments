{
 "cells": [
  {
   "cell_type": "code",
   "execution_count": 1,
   "id": "2995588b-3793-4f1d-b609-0edc4dcf147d",
   "metadata": {},
   "outputs": [
    {
     "data": {
      "text/plain": [
       "0     4\n",
       "1     8\n",
       "2    15\n",
       "3    16\n",
       "4    23\n",
       "5    42\n",
       "dtype: int64"
      ]
     },
     "execution_count": 1,
     "metadata": {},
     "output_type": "execute_result"
    }
   ],
   "source": [
    "import pandas as pd\n",
    "\n",
    "data = [4, 8, 15, 16, 23, 42]\n",
    "pd.Series(data)\n",
    "\n"
   ]
  },
  {
   "cell_type": "code",
   "execution_count": 2,
   "id": "b11d5ecc-f7b4-4106-b147-fc6f7bc4eadb",
   "metadata": {},
   "outputs": [
    {
     "data": {
      "text/plain": [
       "0     1\n",
       "1     2\n",
       "2     3\n",
       "3     4\n",
       "4     5\n",
       "5     6\n",
       "6     7\n",
       "7     8\n",
       "8     9\n",
       "9    10\n",
       "dtype: int64"
      ]
     },
     "execution_count": 2,
     "metadata": {},
     "output_type": "execute_result"
    }
   ],
   "source": [
    "import pandas as pd\n",
    "\n",
    "data = [1,2,3,4,5,6,7,8,9,10]\n",
    "pd.Series(data)\n",
    "\n"
   ]
  },
  {
   "cell_type": "code",
   "execution_count": 3,
   "id": "d4132432-8cbb-42fd-bfe0-3b624fadf8ff",
   "metadata": {},
   "outputs": [],
   "source": [
    "import pandas as pd\n",
    "\n",
    "data = {\n",
    "    'Name': ['Alice', 'Bob', 'Claire'],\n",
    "    'Age': [25, 30, 27],\n",
    "    'Gender': ['Female', 'Male', 'Female']\n",
    "}\n",
    "\n",
    "df = pd.DataFrame(data)\n"
   ]
  },
  {
   "cell_type": "code",
   "execution_count": 4,
   "id": "1a0fe771-3908-44cd-b1c4-64f91df88c95",
   "metadata": {},
   "outputs": [
    {
     "data": {
      "text/html": [
       "<div>\n",
       "<style scoped>\n",
       "    .dataframe tbody tr th:only-of-type {\n",
       "        vertical-align: middle;\n",
       "    }\n",
       "\n",
       "    .dataframe tbody tr th {\n",
       "        vertical-align: top;\n",
       "    }\n",
       "\n",
       "    .dataframe thead th {\n",
       "        text-align: right;\n",
       "    }\n",
       "</style>\n",
       "<table border=\"1\" class=\"dataframe\">\n",
       "  <thead>\n",
       "    <tr style=\"text-align: right;\">\n",
       "      <th></th>\n",
       "      <th>Name</th>\n",
       "      <th>Age</th>\n",
       "      <th>Gender</th>\n",
       "    </tr>\n",
       "  </thead>\n",
       "  <tbody>\n",
       "    <tr>\n",
       "      <th>0</th>\n",
       "      <td>Alice</td>\n",
       "      <td>25</td>\n",
       "      <td>Female</td>\n",
       "    </tr>\n",
       "    <tr>\n",
       "      <th>1</th>\n",
       "      <td>Bob</td>\n",
       "      <td>30</td>\n",
       "      <td>Male</td>\n",
       "    </tr>\n",
       "    <tr>\n",
       "      <th>2</th>\n",
       "      <td>Claire</td>\n",
       "      <td>27</td>\n",
       "      <td>Female</td>\n",
       "    </tr>\n",
       "  </tbody>\n",
       "</table>\n",
       "</div>"
      ],
      "text/plain": [
       "     Name  Age  Gender\n",
       "0   Alice   25  Female\n",
       "1     Bob   30    Male\n",
       "2  Claire   27  Female"
      ]
     },
     "execution_count": 4,
     "metadata": {},
     "output_type": "execute_result"
    }
   ],
   "source": [
    "df"
   ]
  },
  {
   "cell_type": "code",
   "execution_count": null,
   "id": "f7dd4203-afa7-42c1-8839-7a51feab7f30",
   "metadata": {},
   "outputs": [],
   "source": [
    "#In pandas, a DataFrame is a two-dimensional labeled data structure that is widely used for data manipulation and analysis.\n",
    "#It can be thought of as a table or a spreadsheet with rows and columns. \n",
    "#The DataFrame is the primary data structure in pandas and provides a convenient way to store and analyze data."
   ]
  },
  {
   "cell_type": "code",
   "execution_count": 10,
   "id": "68c8e649-d6bc-47a4-bf6d-5fd72b172348",
   "metadata": {},
   "outputs": [
    {
     "name": "stdout",
     "output_type": "stream",
     "text": [
      "DataFrame:\n",
      "   Name  Age      City\n",
      "0  John   25  New York\n",
      "1  Jane   30    London\n",
      "2  Mike   35     Paris\n",
      "\n",
      "Series:\n",
      "0    25\n",
      "1    30\n",
      "2    35\n",
      "Name: Age, dtype: int64\n"
     ]
    }
   ],
   "source": [
    "import pandas as pd\n",
    "\n",
    "# Creating a DataFrame\n",
    "data = {'Name': ['John', 'Jane', 'Mike'],\n",
    "        'Age': [25, 30, 35],\n",
    "        'City': ['New York', 'London', 'Paris']}\n",
    "df = pd.DataFrame(data)\n",
    "\n",
    "# Creating a Series\n",
    "ages = pd.Series([25, 30, 35], name='Age')\n",
    "\n",
    "print(\"DataFrame:\")\n",
    "print(df)\n",
    "print(\"\\nSeries:\")\n",
    "print(ages)\n"
   ]
  },
  {
   "cell_type": "code",
   "execution_count": 12,
   "id": "01e12709-bfc5-4c8e-9882-12fb81aeeee4",
   "metadata": {},
   "outputs": [],
   "source": [
    " #head\n",
    "    #tail\n",
    "    #drop\n",
    "    \n",
    "  #  sales_data[\"Revenue\"] = sales_data.apply(lambda row: row[\"Quantity\"] * row[\"Price\"], axis=1)\n"
   ]
  },
  {
   "cell_type": "code",
   "execution_count": 13,
   "id": "8ce185a7-5b2a-4c3c-8013-0a157485fdea",
   "metadata": {},
   "outputs": [],
   "source": [
    "#Series: A Series is a one-dimensional labeled array that can hold any data type. It is similar to a column in a spreadsheet or a SQL table.\n",
    "#The elements in a Series can be modified after creation.\n",
    "\n",
    "#DataFrame: A DataFrame is a two-dimensional labeled data structure, like a table with rows and columns.\n",
    "#It is the primary data structure used in pandas and provides a convenient way to store and manipulate tabular data. \n",
    "#Both rows and columns in a DataFrame can be modified after creation.\n",
    "\n",
    "#Panel: A Panel is a three-dimensional data structure in pandas, similar to a DataFrame but with an additional axis called \"items.\" \n",
    "#It is deprecated and no longer actively developed. It has been replaced by the more versatile and efficient MultiIndex functionality in pandas,\n",
    "#which allows handling higher-dimensional data using the DataFrame object."
   ]
  },
  {
   "cell_type": "code",
   "execution_count": null,
   "id": "b53f6edf-35d5-45bf-a5f0-91e5544a069e",
   "metadata": {},
   "outputs": [],
   "source": []
  }
 ],
 "metadata": {
  "kernelspec": {
   "display_name": "Python 3 (ipykernel)",
   "language": "python",
   "name": "python3"
  },
  "language_info": {
   "codemirror_mode": {
    "name": "ipython",
    "version": 3
   },
   "file_extension": ".py",
   "mimetype": "text/x-python",
   "name": "python",
   "nbconvert_exporter": "python",
   "pygments_lexer": "ipython3",
   "version": "3.10.8"
  }
 },
 "nbformat": 4,
 "nbformat_minor": 5
}
