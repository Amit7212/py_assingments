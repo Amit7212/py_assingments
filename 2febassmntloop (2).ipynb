{
 "cells": [
  {
   "cell_type": "code",
   "execution_count": 1,
   "id": "7e5e639d-08d3-4485-847f-16754265d96c",
   "metadata": {},
   "outputs": [
    {
     "name": "stdin",
     "output_type": "stream",
     "text": [
      "enter the number 5\n"
     ]
    },
    {
     "data": {
      "text/plain": [
       "120"
      ]
     },
     "execution_count": 1,
     "metadata": {},
     "output_type": "execute_result"
    }
   ],
   "source": [
    "# we use a for loop to iterate over an array.\n",
    "# we Use a for loop when you know the loop should execute n times.\n",
    "# we Use a while loop for reading a file into a variable.\n",
    "# we Use a while loop when asking for user input.\n",
    "# we Use a while loop when the increment value is nonstandard.\n",
    "number=int(input(\"enter the number\"))\n",
    "factorial=1\n",
    "while number>0:\n",
    "    factorial=factorial*number\n",
    "    number=number-1\n",
    "factorial"
   ]
  },
  {
   "cell_type": "code",
   "execution_count": 2,
   "id": "28646a7a-f64a-4313-be1a-01e27611d6f1",
   "metadata": {},
   "outputs": [
    {
     "name": "stdout",
     "output_type": "stream",
     "text": [
      "1\n",
      "2\n",
      "3\n",
      "4\n",
      "5\n"
     ]
    }
   ],
   "source": [
    "#example of for loop\n",
    "l=[1,2,3,4,5]\n",
    "for i in l:\n",
    "    print(i)"
   ]
  },
  {
   "cell_type": "code",
   "execution_count": 3,
   "id": "868a70a6-9cec-49a9-9140-dd9c483ff34b",
   "metadata": {},
   "outputs": [
    {
     "data": {
      "text/plain": [
       "55"
      ]
     },
     "execution_count": 3,
     "metadata": {},
     "output_type": "execute_result"
    }
   ],
   "source": [
    "#sum of first 10 natural number using while loop\n",
    "starting_point=0\n",
    "counter=1\n",
    "while counter<=10:\n",
    "    starting_point=starting_point+counter\n",
    "    counter=counter+1\n",
    "starting_point    \n"
   ]
  },
  {
   "cell_type": "code",
   "execution_count": 4,
   "id": "af34e0e8-8b2a-4b77-9d25-c08f9da287a4",
   "metadata": {},
   "outputs": [
    {
     "name": "stdout",
     "output_type": "stream",
     "text": [
      "55\n"
     ]
    }
   ],
   "source": [
    "#sum of first 10 natural number using for loop\n",
    "starting_point=0\n",
    "counter=1\n",
    "for i in range(10):\n",
    "    starting_point=starting_point+counter\n",
    "    counter=counter+1\n",
    "print(starting_point)\n"
   ]
  },
  {
   "cell_type": "code",
   "execution_count": 5,
   "id": "8cfc086e-aacb-49f9-9ea8-ef0b65a73bfa",
   "metadata": {},
   "outputs": [
    {
     "data": {
      "text/plain": [
       "3628800"
      ]
     },
     "execution_count": 5,
     "metadata": {},
     "output_type": "execute_result"
    }
   ],
   "source": [
    "#product of first 10 natural number using while loop\n",
    "starting_point=1\n",
    "counter=1\n",
    "while counter<=10:\n",
    "    starting_point=starting_point*counter\n",
    "    counter=counter+1\n",
    "starting_point    \n",
    "    "
   ]
  },
  {
   "cell_type": "code",
   "execution_count": 6,
   "id": "79d81002-120e-4fc9-9021-4966e2939522",
   "metadata": {},
   "outputs": [
    {
     "name": "stdout",
     "output_type": "stream",
     "text": [
      "3628800\n"
     ]
    }
   ],
   "source": [
    "#product of first 10 natural number using for loop\n",
    "starting_point=1\n",
    "counter=1\n",
    "for i in range(10):\n",
    "     starting_point=starting_point*counter\n",
    "     counter=counter+1\n",
    "print(starting_point) "
   ]
  },
  {
   "cell_type": "code",
   "execution_count": 7,
   "id": "6eeffc04-42d8-4b44-a182-7ef06cb87ae9",
   "metadata": {},
   "outputs": [
    {
     "name": "stdin",
     "output_type": "stream",
     "text": [
      "enter the number of unit which is consumed in a month 310\n"
     ]
    },
    {
     "name": "stdout",
     "output_type": "stream",
     "text": [
      "2250.0\n"
     ]
    }
   ],
   "source": [
    "#electricity bill\n",
    "units=int(input(\"enter the number of unit which is consumed in a month\"))\n",
    "if(units<=100 and units>=0):\n",
    "    payamount=4.5*units\n",
    "elif(units<=200 and units>100):\n",
    "      payamount=(4.5*100)+(6*(units-100))\n",
    "elif(units<=300  and units>200):\n",
    "      payamount=(4.5*100)+ (6*100) +(10*(units-200))\n",
    "elif(units>300):\n",
    "    payamount=(4.5*100)+ (6*100)+(10*100)+(20*(units-300))\n",
    "      \n",
    "else:\n",
    "    print(\"no use of electricity\")\n",
    "print(payamount)    \n",
    "    "
   ]
  },
  {
   "cell_type": "code",
   "execution_count": 8,
   "id": "46257a93-f671-44a4-993f-985c663f386f",
   "metadata": {},
   "outputs": [
    {
     "name": "stdout",
     "output_type": "stream",
     "text": [
      "[0, 2, 4, 5, 6, 8, 10, 12, 14, 15, 16, 18, 20, 22, 24, 25, 26, 28, 30, 32, 34, 35, 36, 38, 40, 42, 44, 45, 46, 48, 50, 52, 54, 55, 56, 58, 60, 62, 64, 65, 66, 68, 70, 72, 74, 75, 76, 78, 80, 82, 84, 85, 86, 88, 90, 92, 94, 95, 96, 98, 100]\n"
     ]
    }
   ],
   "source": [
    "l=[]\n",
    "l1=[]\n",
    "starting_point=0\n",
    "starting_point2=0\n",
    "\n",
    "while starting_point<=100:\n",
    "    starting_point=starting_point+1\n",
    "    l.append(starting_point)\n",
    "while starting_point2<=100:\n",
    "    if((starting_point2**3)%4==0 or (starting_point2**3)%5==0):\n",
    "        l1.append(starting_point2)\n",
    "    starting_point2=starting_point2+1\n",
    "print(l1)"
   ]
  },
  {
   "cell_type": "code",
   "execution_count": 9,
   "id": "a5ebbf12-97b3-4826-894e-37b69266bb8c",
   "metadata": {},
   "outputs": [
    {
     "name": "stdout",
     "output_type": "stream",
     "text": [
      "[0, 2, 4, 5, 6, 8, 10, 12, 14, 15, 16, 18, 20, 22, 24, 25, 26, 28, 30, 32, 34, 35, 36, 38, 40, 42, 44, 45, 46, 48, 50, 52, 54, 55, 56, 58, 60, 62, 64, 65, 66, 68, 70, 72, 74, 75, 76, 78, 80, 82, 84, 85, 86, 88, 90, 92, 94, 95, 96, 98, 100]\n"
     ]
    }
   ],
   "source": [
    "l=[]\n",
    "l1=[]\n",
    "starting_point=0\n",
    "starting_point2=0\n",
    "\n",
    "for starting_point in range(101):\n",
    "    starting_point=starting_point+1\n",
    "    l.append(starting_point)\n",
    "for starting_point2 in range(101):\n",
    "    if((starting_point2**3)%4==0 or (starting_point2**3)%5==0):\n",
    "        l1.append(starting_point2)\n",
    "    starting_point2=starting_point2+1\n",
    "print(l1)"
   ]
  },
  {
   "cell_type": "code",
   "execution_count": 10,
   "id": "b198ceef-7e72-40d8-bacc-ff8da4633d2b",
   "metadata": {},
   "outputs": [
    {
     "name": "stdout",
     "output_type": "stream",
     "text": [
      "12\n"
     ]
    }
   ],
   "source": [
    "s=(\"i want to become a data scientist\")\n",
    "s1=(\"a\",\"e\",\"i\",\"o\",\"u\")\n",
    "len(s)\n",
    "count=0\n",
    "for i in range(len(s)):\n",
    "    for j in range(5):\n",
    "        if(s[i]==s1[j]):\n",
    "            count+=1\n",
    "print(count)    "
   ]
  },
  {
   "cell_type": "code",
   "execution_count": null,
   "id": "85648138-5619-4c40-9114-121f3fe63af0",
   "metadata": {},
   "outputs": [],
   "source": []
  }
 ],
 "metadata": {
  "kernelspec": {
   "display_name": "Python 3 (ipykernel)",
   "language": "python",
   "name": "python3"
  },
  "language_info": {
   "codemirror_mode": {
    "name": "ipython",
    "version": 3
   },
   "file_extension": ".py",
   "mimetype": "text/x-python",
   "name": "python",
   "nbconvert_exporter": "python",
   "pygments_lexer": "ipython3",
   "version": "3.10.8"
  }
 },
 "nbformat": 4,
 "nbformat_minor": 5
}
