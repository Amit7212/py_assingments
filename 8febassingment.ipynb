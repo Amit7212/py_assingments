{
 "cells": [
  {
   "cell_type": "code",
   "execution_count": 2,
   "id": "9df00cae-5a72-4d84-bd68-6bb3e768fe8e",
   "metadata": {},
   "outputs": [],
   "source": [
    "#Abstraction in object-oriented programming (OOPs) is a fundamental concept\n",
    "#that allows you to focus on essential features and hide unnecessary details of an object or system.\n",
    "#It involves simplifying complex systems by breaking them down into smaller, more manageable parts,\n",
    "#and defining clear interfaces for interacting with those parts.\n",
    "#In OOP, abstraction is achieved through the use of abstract classes and interfaces.\n",
    "#An abstract class is a class that cannot be instantiated and serves as a blueprint for derived classes.\n",
    "#It may contain both concrete and abstract methods.\n",
    "#An abstract method is a method without an implementation,\n",
    "#which must be implemented by any concrete class inheriting from the abstract class.\n",
    "import abc\n",
    "class amit:\n",
    "    @abc.abstractmethod\n",
    "    def test1(self):\n",
    "        pass\n",
    "    @abc.abstractmethod\n",
    "    def test2(self):\n",
    "        pass"
   ]
  },
  {
   "cell_type": "code",
   "execution_count": 3,
   "id": "69af48a7-0980-40b3-88e5-cf153cc7e0d0",
   "metadata": {},
   "outputs": [],
   "source": [
    "class chauhan:\n",
    "     def test1(self):\n",
    "            return \"amiit\"\n",
    "    "
   ]
  },
  {
   "cell_type": "code",
   "execution_count": 4,
   "id": "1fb592ed-5454-48f8-a71f-80bb1de1be76",
   "metadata": {},
   "outputs": [],
   "source": [
    "obj_chauhan=chauhan()\n"
   ]
  },
  {
   "cell_type": "code",
   "execution_count": 5,
   "id": "77ad2efa-451f-4371-b78c-c2d671628796",
   "metadata": {},
   "outputs": [
    {
     "data": {
      "text/plain": [
       "'amiit'"
      ]
     },
     "execution_count": 5,
     "metadata": {},
     "output_type": "execute_result"
    }
   ],
   "source": [
    "obj_chauhan.test1()"
   ]
  },
  {
   "cell_type": "code",
   "execution_count": 6,
   "id": "dfbbc5e7-2dfa-4551-996f-c5f969c9ef8f",
   "metadata": {},
   "outputs": [],
   "source": [
    "#diff b/w abstraction and encapsulation\n",
    "#Abstraction:\n",
    "#Abstraction is a concept that focuses on hiding unnecessary details and complexity\n",
    "#while emphasizing the essential features of an object or system.\n",
    "#It allows you to create a simplified model of a complex system by focusing on the relevant aspects\n",
    "#and ignoring the irrelevant ones.\n",
    "import abc\n",
    "class amit:\n",
    "    @abc.abstractmethod\n",
    "    def test1(self):\n",
    "        pass\n",
    "    @abc.abstractmethod\n",
    "    def test2(self):\n",
    "        pass"
   ]
  },
  {
   "cell_type": "code",
   "execution_count": 7,
   "id": "cb240ef7-84e7-4840-a444-e762c7ccff05",
   "metadata": {},
   "outputs": [],
   "source": [
    "class chauhan:\n",
    "     def test1(self):\n",
    "            return \"amiit\"\n",
    "    "
   ]
  },
  {
   "cell_type": "code",
   "execution_count": 8,
   "id": "66ad6688-193b-4a78-8b26-a5b456412b26",
   "metadata": {},
   "outputs": [],
   "source": [
    "obj_chauhan=chauhan()\n"
   ]
  },
  {
   "cell_type": "code",
   "execution_count": 9,
   "id": "7966b14d-b08b-4254-97aa-351bdbdaebf7",
   "metadata": {},
   "outputs": [
    {
     "data": {
      "text/plain": [
       "'amiit'"
      ]
     },
     "execution_count": 9,
     "metadata": {},
     "output_type": "execute_result"
    }
   ],
   "source": [
    "obj_chauhan.test1()"
   ]
  },
  {
   "cell_type": "code",
   "execution_count": 18,
   "id": "3518304c-d0a9-4bba-9bcd-9bd337ad0e6f",
   "metadata": {},
   "outputs": [],
   "source": [
    "#Encapsulation:\n",
    "#Encapsulation is a mechanism that combines data and the methods (or functions)\n",
    "#that operate on that data into a single unit called an object.\n",
    "#It allows you to hide the internal state and implementation details of an object\n",
    "#from the outside world, and only expose a public interface through which other objects can interact\n",
    "#with it. Encapsulation helps achieve data integrity and provides better control\n",
    "#over how objects are accessed and modified.\n",
    "class bank_account:\n",
    "    def __init__(self,balance):\n",
    "        self.__balance=balance\n",
    "    def deposit(self,amount):\n",
    "        self.__balance=self.__balance+amount\n",
    "    def withdraw(self,amount):\n",
    "        if self.__balance>=amount:\n",
    "            self.__balance=self.__balance-amount\n",
    "            return True\n",
    "        else:\n",
    "            return False\n",
    "    def get_balance(self):\n",
    "        return self.__balance\n",
    "        \n",
    "        "
   ]
  },
  {
   "cell_type": "code",
   "execution_count": 19,
   "id": "a51103f0-8736-426a-a3ca-0546aa136779",
   "metadata": {},
   "outputs": [],
   "source": [
    "amit=bank_account(10000)"
   ]
  },
  {
   "cell_type": "code",
   "execution_count": 20,
   "id": "58798806-4027-4184-9306-89f6dd27b3a0",
   "metadata": {},
   "outputs": [
    {
     "data": {
      "text/plain": [
       "10000"
      ]
     },
     "execution_count": 20,
     "metadata": {},
     "output_type": "execute_result"
    }
   ],
   "source": [
    "amit.get_balance()"
   ]
  },
  {
   "cell_type": "code",
   "execution_count": 21,
   "id": "b1eaf0a5-d2df-4b18-8660-cca75cd56e86",
   "metadata": {},
   "outputs": [
    {
     "data": {
      "text/plain": [
       "True"
      ]
     },
     "execution_count": 21,
     "metadata": {},
     "output_type": "execute_result"
    }
   ],
   "source": [
    "amit.withdraw(50)"
   ]
  },
  {
   "cell_type": "code",
   "execution_count": 22,
   "id": "64ec9fa2-a586-4309-9ac2-1f6a5feecd27",
   "metadata": {},
   "outputs": [
    {
     "data": {
      "text/plain": [
       "9950"
      ]
     },
     "execution_count": 22,
     "metadata": {},
     "output_type": "execute_result"
    }
   ],
   "source": [
    "amit.get_balance()"
   ]
  },
  {
   "cell_type": "code",
   "execution_count": 23,
   "id": "a0a8ead2-0798-4e3f-851b-244abdfe41e9",
   "metadata": {},
   "outputs": [],
   "source": [
    "#In Python, the abc module stands for \"Abstract Base Classes.\"\n",
    "#It provides infrastructure for defining abstract base classes in Python. \n",
    "#Abstract base classes are classes that cannot be instantiated directly\n",
    "#but are meant to be subclassed by other classes. They serve as a blueprint for subclasses,\n",
    "#defining a common interface or behavior that the subclasses should adhere to.\n",
    "#uses\n",
    "#1)Defining Abstract Base Classes\n",
    "#The abc module provides the ABC class as the base class for defining abstract base classes.\n",
    "#You can subclass ABC to create your own abstract base class.\n",
    "#2)Abstract Methods: Abstract methods are methods that must be implemented\n",
    "#by any concrete (non-abstract) subclass. The abc module provides the abstractmethod decorator,\n",
    "#which can be used to mark methods as abstract.\n",
    "#Abstract methods are defined in the abstract base class but don't have any implementation."
   ]
  },
  {
   "cell_type": "code",
   "execution_count": 24,
   "id": "959e780f-75c1-4b5c-9f96-006c0ac1a16d",
   "metadata": {},
   "outputs": [],
   "source": [
    "#Data abstraction is a fundamental concept in computer science and software engineering that allows us to manage complexity \n",
    "#and hide unnecessary details while focusing on the essential aspects of data.\n",
    "#It enables us to create models or representations of real-world entities or systems in a simplified and organized manner.\n",
    "\n",
    "#To achieve data abstraction, the following techniques can be employed:\n",
    "#1)encapsulation\n",
    "#2)data types\n",
    "#3)classes and objects\n",
    "#4)abstract data\n",
    "#5)interfaces\n",
    "#6)modularity and layering\n",
    "#By employing these techniques, we can achieve data abstraction and build systems that are more modular, maintainable, and scalable.\n",
    "#Data abstraction helps us manage complexity, improves code readability, \n",
    "#and allows for better separation of concerns in software development."
   ]
  },
  {
   "cell_type": "code",
   "execution_count": null,
   "id": "702891ed-c49d-477e-8687-3e7df038b285",
   "metadata": {},
   "outputs": [],
   "source": [
    "No, we cannot create an instance of an abstract class. An abstract class is a class that cannot be instantiated directly because it is designed to be a blueprint for other classes. It typically contains one or more abstract methods, which are methods without an implementation. Abstract classes are meant to be extended by subclasses that provide the implementation for the abstract methods."
   ]
  }
 ],
 "metadata": {
  "kernelspec": {
   "display_name": "Python 3 (ipykernel)",
   "language": "python",
   "name": "python3"
  },
  "language_info": {
   "codemirror_mode": {
    "name": "ipython",
    "version": 3
   },
   "file_extension": ".py",
   "mimetype": "text/x-python",
   "name": "python",
   "nbconvert_exporter": "python",
   "pygments_lexer": "ipython3",
   "version": "3.10.8"
  }
 },
 "nbformat": 4,
 "nbformat_minor": 5
}
