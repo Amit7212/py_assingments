{
 "cells": [
  {
   "cell_type": "code",
   "execution_count": 1,
   "id": "9d67cdfa-35c6-4bd5-95de-f992352d8386",
   "metadata": {},
   "outputs": [
    {
     "name": "stdin",
     "output_type": "stream",
     "text": [
      "enter your grade 90\n"
     ]
    },
    {
     "name": "stdout",
     "output_type": "stream",
     "text": [
      "B\n"
     ]
    }
   ],
   "source": [
    "#first program\n",
    "percentage = int(input(\"enter your grade\"))\n",
    "if percentage>90:\n",
    "    print(\"A\")\n",
    "elif percentage >80 and percentage <=90:\n",
    "    print(\"B\")\n",
    "elif percentage >60 and percentage <=80:\n",
    "    print(\"C\")\n",
    "elif percentage < 60:\n",
    "    print(\"D\")\n",
    "    "
   ]
  },
  {
   "cell_type": "code",
   "execution_count": 8,
   "id": "cd291191-bca8-4f9e-a616-df1b7d1725f4",
   "metadata": {},
   "outputs": [
    {
     "name": "stdin",
     "output_type": "stream",
     "text": [
      "enter the monuments delhi\n"
     ]
    },
    {
     "name": "stdout",
     "output_type": "stream",
     "text": [
      "redfort\n"
     ]
    }
   ],
   "source": [
    "#third program\n",
    "city=(input(\"enter the monuments\"))\n",
    "if city == \"delhi\":\n",
    "    print(\"redfort\")\n",
    "elif city == \"agra\":\n",
    "    print(\"tajmahal\")\n",
    "elif city == \"jaipur\":\n",
    "    print(\"jalmahal\")"
   ]
  },
  {
   "cell_type": "code",
   "execution_count": 2,
   "id": "596da224-484e-4314-b0e2-a21eba649ba1",
   "metadata": {},
   "outputs": [
    {
     "name": "stdin",
     "output_type": "stream",
     "text": [
      "enter your road tax 77777777\n"
     ]
    },
    {
     "name": "stdout",
     "output_type": "stream",
     "text": [
      "15%\n"
     ]
    }
   ],
   "source": [
    "#second program\n",
    "cost_price=int(input(\"enter your road tax\"))\n",
    "if cost_price > 100000:\n",
    "    print(\"15%\")\n",
    "elif cost_price > 50000 and cost_price <=100000:\n",
    "    print(\"10%\")\n",
    "elif cost_price <=50000:\n",
    "    print(\"5%\")"
   ]
  },
  {
   "cell_type": "code",
   "execution_count": null,
   "id": "e3e91b8b-8b1c-4ea6-8b2d-ed9aed138f90",
   "metadata": {},
   "outputs": [],
   "source": [
    "#why and when to use while loop\n",
    "#Python While Loop is used to execute a block of statements repeatedly until a given condition is satisfied.\n",
    "#And when the condition becomes false, the line immediately after the loop in the program is executed.\n",
    "#While loop falls under the category of indefinite iteration.\n",
    "#Indefinite iteration means that the number of times the loop is executed isn’t specified explicitly in advance. \n",
    "#Syntax: \n",
    "#while expression:\n",
    " #   statement(s)"
   ]
  },
  {
   "cell_type": "code",
   "execution_count": 3,
   "id": "3e1c1e46-5691-4243-86da-423f4b25b90e",
   "metadata": {},
   "outputs": [
    {
     "name": "stdin",
     "output_type": "stream",
     "text": [
      "enter the number 36\n"
     ]
    },
    {
     "name": "stdout",
     "output_type": "stream",
     "text": [
      "2\n"
     ]
    }
   ],
   "source": [
    "number=int(input(\"enter the number\"))\n",
    "count=0\n",
    "while number>=10:\n",
    "    if (number%3==0):\n",
    "        count=count+1\n",
    "    number=number/3    \n",
    "print(count)       "
   ]
  },
  {
   "cell_type": "code",
   "execution_count": 7,
   "id": "a9d470a9-35c4-42e5-a3ac-4b1bad9feb22",
   "metadata": {},
   "outputs": [
    {
     "name": "stdout",
     "output_type": "stream",
     "text": [
      "\n",
      "\n",
      "*\n",
      "\n",
      "**\n",
      "\n",
      "***\n",
      "\n",
      "****\n",
      "\n"
     ]
    }
   ],
   "source": [
    "for i in range(5):\n",
    "    for j in range(i):\n",
    "        print(\"*\", end=\"\")\n",
    "    print(\"\\n\")"
   ]
  },
  {
   "cell_type": "code",
   "execution_count": 6,
   "id": "1fb89a76-7756-4713-bb05-6c8d0f0e630b",
   "metadata": {},
   "outputs": [
    {
     "name": "stdout",
     "output_type": "stream",
     "text": [
      "*****\n",
      "\n",
      "****\n",
      "\n",
      "***\n",
      "\n",
      "**\n",
      "\n",
      "*\n",
      "\n"
     ]
    }
   ],
   "source": [
    "for i in range(5,0,-1):\n",
    "    for j in range(i):\n",
    "        print(\"*\", end=\"\")\n",
    "    print(\"\\n\")"
   ]
  },
  {
   "cell_type": "code",
   "execution_count": 5,
   "id": "9f051cc5-54ed-47ef-bbf6-c6bb621499bf",
   "metadata": {},
   "outputs": [
    {
     "name": "stdout",
     "output_type": "stream",
     "text": [
      "**********"
     ]
    }
   ],
   "source": [
    "for i in range(5):\n",
    "    for j in range(i):\n",
    "        print(\"*\", end=\"\")\n",
    "    "
   ]
  },
  {
   "cell_type": "code",
   "execution_count": 4,
   "id": "210366fa-98c0-4d08-ade0-7cd6b9910764",
   "metadata": {},
   "outputs": [
    {
     "name": "stdout",
     "output_type": "stream",
     "text": [
      "10\n",
      "9\n",
      "8\n",
      "7\n",
      "6\n",
      "5\n",
      "4\n",
      "3\n",
      "2\n",
      "1\n"
     ]
    }
   ],
   "source": [
    "count=10\n",
    "while count>0:\n",
    "    print(count)   \n",
    "    count=count-1\n",
    "     "
   ]
  },
  {
   "cell_type": "code",
   "execution_count": null,
   "id": "00e965bf-169d-4614-ac8b-af8b5d62184b",
   "metadata": {},
   "outputs": [],
   "source": []
  }
 ],
 "metadata": {
  "kernelspec": {
   "display_name": "Python 3 (ipykernel)",
   "language": "python",
   "name": "python3"
  },
  "language_info": {
   "codemirror_mode": {
    "name": "ipython",
    "version": 3
   },
   "file_extension": ".py",
   "mimetype": "text/x-python",
   "name": "python",
   "nbconvert_exporter": "python",
   "pygments_lexer": "ipython3",
   "version": "3.10.8"
  }
 },
 "nbformat": 4,
 "nbformat_minor": 5
}
