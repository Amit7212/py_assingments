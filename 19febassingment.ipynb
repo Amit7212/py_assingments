{
 "cells": [
  {
   "cell_type": "code",
   "execution_count": null,
   "id": "bbcd6fff-8db2-4fb5-8292-14600add9b40",
   "metadata": {},
   "outputs": [],
   "source": [
    "#What is Flask?\n",
    "#Flask is a web framework that allows developers to build lightweight web applications quickly and easily with Flask Libraries. \n",
    "#It was developed by Armin Ronacher, leader of the International Group of Python Enthusiasts(POCCO).\n",
    "#It is basically based on the WSGI toolkit and Jinja2 templating engine.\n",
    "\n",
    "#Advantages of Flask:\n",
    " #Flask is a lightweight backend framework with minimal dependencies.\n",
    " #Flask is easy to learn because its simple and intuitive API makes it easy to learn and use for beginners.\n",
    " #Flask is a flexible Framework because it allows you to customize and extend the framework to suit your needs easily.\n",
    " #Flask can be used with any database like:- SQL and NoSQL and with any Frontend Technology such as React or Angular.\n",
    "#Flask is great for small to medium projects that do not require the complexity of a large framework."
   ]
  },
  {
   "cell_type": "code",
   "execution_count": null,
   "id": "cb4ad5bc-29da-4afb-8dee-486836ed173e",
   "metadata": {},
   "outputs": [],
   "source": [
    "from flask import Flask\n",
    "from flask import request\n",
    "app = Flask(__name__)\n",
    "\n",
    "app.route(\"/hello_world\")\n",
    "def hello_world():\n",
    "    return \"<h1>Hello, World!</h1>\""
   ]
  },
  {
   "cell_type": "code",
   "execution_count": null,
   "id": "e8238475-79d1-460d-bc9d-6a1ced4eb0ba",
   "metadata": {},
   "outputs": [],
   "source": []
  },
  {
   "cell_type": "code",
   "execution_count": 2,
   "id": "6107cdb6-c233-4c80-ae54-fbbea8480bd1",
   "metadata": {},
   "outputs": [],
   "source": [
    "#App Routing means mapping the URLs to a specific function that will handle the logic for that URL.\n",
    "#Modern web frameworks use more meaningful URLs to help users remember the URLs and make navigation simpler. \n",
    "\n",
    "#App routing is used to map the specific URL with the associated function that is intended to perform some task.\n",
    "#The routing technique helps a user remember application URLs and is useful to access the desired page directly without having to navigate from the home page.\n"
   ]
  },
  {
   "cell_type": "code",
   "execution_count": null,
   "id": "62b1ed1f-b85f-4ad6-8815-2478802d6ec0",
   "metadata": {},
   "outputs": [],
   "source": []
  },
  {
   "cell_type": "code",
   "execution_count": null,
   "id": "40e59bdb-0b04-4047-88ea-6b0d7668675b",
   "metadata": {},
   "outputs": [],
   "source": [
    "#In Flask, the url_for() function is used for URL building. It is a built-in function that helps generate URLs for a given view function based on its name.\n",
    "\n",
    "from flask import Flask\n",
    "from flask import request\n",
    "app = Flask(__name__)\n",
    "\n",
    "@app.route(\"/welcome\")\n",
    "def welcome():\n",
    "    a=\"Company Name: ABC CorporationLocation: IndiaContact Detail: 999-999-9999\"\n",
    "    return \"Welcome to ABC Corporation {}\".format(a)\n",
    "@app.route(\"/hello_world\")\n",
    "def hello_world()\n",
    "    return \"<h1>Hello, World!</h1>\"\n",
    "@app.route(\"/hello_world1\")\n",
    "def hello_world1():\n",
    "    return \"<h1>Hello, World!1</h1>\""
   ]
  },
  {
   "cell_type": "code",
   "execution_count": null,
   "id": "6da28749-b6f6-43bf-ae22-8855062a6d25",
   "metadata": {},
   "outputs": [],
   "source": [
    "dziopopopf\n",
    "\n"
   ]
  }
 ],
 "metadata": {
  "kernelspec": {
   "display_name": "Python 3 (ipykernel)",
   "language": "python",
   "name": "python3"
  },
  "language_info": {
   "codemirror_mode": {
    "name": "ipython",
    "version": 3
   },
   "file_extension": ".py",
   "mimetype": "text/x-python",
   "name": "python",
   "nbconvert_exporter": "python",
   "pygments_lexer": "ipython3",
   "version": "3.10.8"
  }
 },
 "nbformat": 4,
 "nbformat_minor": 5
}
