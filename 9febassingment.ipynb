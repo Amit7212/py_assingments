{
 "cells": [
  {
   "cell_type": "code",
   "execution_count": 12,
   "id": "075a550e-8bf1-4fe4-a279-e37931e1a3d2",
   "metadata": {},
   "outputs": [],
   "source": [
    "class vehicle:\n",
    "    def __init__(self,name_of_vehicle,max_speed,avg_of_vehicle):\n",
    "        self.name_of_vehicle=name_of_vehicle\n",
    "        self.max_speed=max_speed\n",
    "        self.avg_of_vehicle=avg_of_vehicle\n",
    "    \n",
    "        "
   ]
  },
  {
   "cell_type": "code",
   "execution_count": 13,
   "id": "3c58ac91-d0f4-4974-8f5e-c7bcc83c34d2",
   "metadata": {},
   "outputs": [],
   "source": [
    "amit=vehicle(\"car\",23,55.5)"
   ]
  },
  {
   "cell_type": "code",
   "execution_count": 15,
   "id": "5b777f01-bbf8-49b8-bb07-354fdb85da36",
   "metadata": {},
   "outputs": [
    {
     "data": {
      "text/plain": [
       "55.5"
      ]
     },
     "execution_count": 15,
     "metadata": {},
     "output_type": "execute_result"
    }
   ],
   "source": [
    "amit.avg_of_vehicle"
   ]
  },
  {
   "cell_type": "code",
   "execution_count": 16,
   "id": "2f34e1f3-b2ac-4bb3-bfe3-a0ee31894a80",
   "metadata": {},
   "outputs": [
    {
     "data": {
      "text/plain": [
       "23"
      ]
     },
     "execution_count": 16,
     "metadata": {},
     "output_type": "execute_result"
    }
   ],
   "source": [
    " amit.max_speed"
   ]
  },
  {
   "cell_type": "code",
   "execution_count": 17,
   "id": "cdafdab3-d8bf-4e78-80c2-510779fee1f8",
   "metadata": {},
   "outputs": [
    {
     "data": {
      "text/plain": [
       "'car'"
      ]
     },
     "execution_count": 17,
     "metadata": {},
     "output_type": "execute_result"
    }
   ],
   "source": [
    "amit.name_of_vehicle"
   ]
  },
  {
   "cell_type": "code",
   "execution_count": 40,
   "id": "c813437e-e8c5-4083-80a0-5ea2351755b1",
   "metadata": {},
   "outputs": [
    {
     "data": {
      "text/plain": [
       "'The Toyota Camry has a seating capacity of 4.'"
      ]
     },
     "execution_count": 40,
     "metadata": {},
     "output_type": "execute_result"
    }
   ],
   "source": [
    "class Vehicle:\n",
    "    def __init__(self, name_of_vehicle, max_speed, average_of_vehicle):\n",
    "        self.name_of_vehicle = name_of_vehicle\n",
    "        self.max_speed = max_speed\n",
    "        self.average_of_vehicle = average_of_vehicle\n",
    "\n",
    "\n",
    "class Car(Vehicle):\n",
    "    def seating_capacity(self, capacity):\n",
    "        return f\"The {self.name_of_vehicle} has a seating capacity of {capacity}.\"\n",
    "vehicle1 = Car(\"Toyota Camry\", 180, 25)\n",
    "vehicle1.seating_capacity(4)\n"
   ]
  },
  {
   "cell_type": "code",
   "execution_count": 41,
   "id": "b7b10a22-c8cf-492c-beb5-51285b70b3f1",
   "metadata": {},
   "outputs": [],
   "source": [
    "#Multiple Inheritance \n",
    "#When a class is derived from more than one base class it is called multiple Inheritance.\n",
    "#The derived class inherits all the features of the base case.\n",
    "class amit1:\n",
    "    def test(self):\n",
    "        return \"yes\""
   ]
  },
  {
   "cell_type": "code",
   "execution_count": 43,
   "id": "00c0f90f-447e-4da4-820d-35e84ec74396",
   "metadata": {},
   "outputs": [],
   "source": [
    "class amit2:\n",
    "    def test2(self):\n",
    "        return \"no\""
   ]
  },
  {
   "cell_type": "code",
   "execution_count": 44,
   "id": "8efaa0f0-6941-4f83-9465-3a692fd19063",
   "metadata": {},
   "outputs": [],
   "source": [
    "class amit3(amit1,amit2):\n",
    "    pass"
   ]
  },
  {
   "cell_type": "code",
   "execution_count": 45,
   "id": "18c5dfc6-7fa3-405b-a70a-1911e97fa97e",
   "metadata": {},
   "outputs": [],
   "source": [
    "stop=amit3()"
   ]
  },
  {
   "cell_type": "code",
   "execution_count": 47,
   "id": "f567ee79-354e-4ca1-8d46-4cb000f8590e",
   "metadata": {},
   "outputs": [
    {
     "data": {
      "text/plain": [
       "'yes'"
      ]
     },
     "execution_count": 47,
     "metadata": {},
     "output_type": "execute_result"
    }
   ],
   "source": [
    "stop.test()"
   ]
  },
  {
   "cell_type": "code",
   "execution_count": 48,
   "id": "2a14ec9e-a2b2-4d5b-ab47-ca326e357688",
   "metadata": {},
   "outputs": [
    {
     "data": {
      "text/plain": [
       "'no'"
      ]
     },
     "execution_count": 48,
     "metadata": {},
     "output_type": "execute_result"
    }
   ],
   "source": [
    "stop.test2()"
   ]
  },
  {
   "cell_type": "code",
   "execution_count": 1,
   "id": "be22e185-b462-43fe-b7bf-7b23f219c69d",
   "metadata": {},
   "outputs": [],
   "source": [
    "#In Python, getters and setters are not the same as those in other object-oriented programming languages\n",
    "#Basically, the main purpose of using getters and setters \n",
    "#in object-oriented programs is to ensure data encapsulation.\n",
    "#Private variables in python are not actually hidden fields like in other object oriented languages.\n",
    "#Getters and Setters in python are often used when:\n",
    "\n",
    "#We use getters & setters to add validation logic around getting and setting a value.\n",
    "#To avoid direct access of a class field \n",
    "#i.e. private variables cannot be accessed directly or modified by external user.\n",
    "class car:\n",
    "    def __init__(self,name,model,speed):\n",
    "        self.__name=name\n",
    "        self.__model=model\n",
    "        self.__speed=0\n",
    "    def set_speed(self,speed):\n",
    "        self.__speed=0 if speed<0 else speed\n",
    "    def get_speed(self):\n",
    "        return self.__speed"
   ]
  },
  {
   "cell_type": "code",
   "execution_count": 3,
   "id": "3a883a77-d3d2-45fa-95dc-7be4031550ea",
   "metadata": {},
   "outputs": [],
   "source": [
    "amit=car(\"renault\",\"duster\",34)"
   ]
  },
  {
   "cell_type": "code",
   "execution_count": 5,
   "id": "b4bae035-e729-4857-9273-697b38131775",
   "metadata": {},
   "outputs": [],
   "source": [
    "amit.set_speed(-43)"
   ]
  },
  {
   "cell_type": "code",
   "execution_count": 11,
   "id": "bc0148e1-c3d8-48de-84c0-7c8f6b3977f6",
   "metadata": {},
   "outputs": [
    {
     "data": {
      "text/plain": [
       "0"
      ]
     },
     "execution_count": 11,
     "metadata": {},
     "output_type": "execute_result"
    }
   ],
   "source": [
    "amit.get_speed()"
   ]
  },
  {
   "cell_type": "code",
   "execution_count": 12,
   "id": "9a56a9b7-7993-4eb8-b824-4cac2c9b0edd",
   "metadata": {},
   "outputs": [],
   "source": [
    "amit.set_speed(54)"
   ]
  },
  {
   "cell_type": "code",
   "execution_count": 13,
   "id": "20dbf2f1-8672-4b32-884b-f8e2e2612daf",
   "metadata": {},
   "outputs": [
    {
     "data": {
      "text/plain": [
       "54"
      ]
     },
     "execution_count": 13,
     "metadata": {},
     "output_type": "execute_result"
    }
   ],
   "source": [
    "amit.get_speed()"
   ]
  },
  {
   "cell_type": "code",
   "execution_count": 14,
   "id": "61285430-d28c-4fd2-9550-0a4caf7dac61",
   "metadata": {},
   "outputs": [],
   "source": [
    "#Method overriding is an ability of any object-oriented programming language \n",
    "#that allows a subclass or child class to provide a specific implementation of a method \n",
    "#that is already provided by one of its super-classes or parent classes.\n",
    "#When a method in a subclass has the same name,\n",
    "#same parameters or signature and same return type(or sub-type) as a method in its super-class,\n",
    "#then the method in the subclass is said to override the method in the super-class.\n",
    "class shape:\n",
    "    def area(self):\n",
    "        print(\"size\")\n",
    "class areais(shape):\n",
    "    def area(self,l,b):\n",
    "        l=4\n",
    "        b=9\n",
    "        area=l*b\n",
    "        print(area)\n",
    "        "
   ]
  },
  {
   "cell_type": "code",
   "execution_count": 15,
   "id": "7c2b2500-b9e5-40c3-a240-e9109349713f",
   "metadata": {},
   "outputs": [],
   "source": [
    "ami=shape()"
   ]
  },
  {
   "cell_type": "code",
   "execution_count": 20,
   "id": "bab84109-72c5-4b68-8327-ab7944e5439f",
   "metadata": {},
   "outputs": [
    {
     "ename": "TypeError",
     "evalue": "areais() takes no arguments",
     "output_type": "error",
     "traceback": [
      "\u001b[0;31m---------------------------------------------------------------------------\u001b[0m",
      "\u001b[0;31mTypeError\u001b[0m                                 Traceback (most recent call last)",
      "Cell \u001b[0;32mIn[20], line 1\u001b[0m\n\u001b[0;32m----> 1\u001b[0m amit\u001b[38;5;241m=\u001b[39m\u001b[43mareais\u001b[49m\u001b[43m(\u001b[49m\u001b[38;5;241;43m3\u001b[39;49m\u001b[43m,\u001b[49m\u001b[38;5;241;43m5\u001b[39;49m\u001b[43m)\u001b[49m\n",
      "\u001b[0;31mTypeError\u001b[0m: areais() takes no arguments"
     ]
    }
   ],
   "source": [
    "amit=areais(3,5)"
   ]
  },
  {
   "cell_type": "code",
   "execution_count": 18,
   "id": "080bd6a4-9e97-4b25-b7c4-3af21734bf4e",
   "metadata": {},
   "outputs": [
    {
     "name": "stdout",
     "output_type": "stream",
     "text": [
      "size\n"
     ]
    }
   ],
   "source": [
    "ami.area()"
   ]
  },
  {
   "cell_type": "code",
   "execution_count": 19,
   "id": "a7471dd4-5dcc-44b9-bb4c-ce43e9154b43",
   "metadata": {},
   "outputs": [
    {
     "ename": "TypeError",
     "evalue": "areais.area() missing 2 required positional arguments: 'l' and 'b'",
     "output_type": "error",
     "traceback": [
      "\u001b[0;31m---------------------------------------------------------------------------\u001b[0m",
      "\u001b[0;31mTypeError\u001b[0m                                 Traceback (most recent call last)",
      "Cell \u001b[0;32mIn[19], line 1\u001b[0m\n\u001b[0;32m----> 1\u001b[0m \u001b[43mamit\u001b[49m\u001b[38;5;241;43m.\u001b[39;49m\u001b[43marea\u001b[49m\u001b[43m(\u001b[49m\u001b[43m)\u001b[49m\n",
      "\u001b[0;31mTypeError\u001b[0m: areais.area() missing 2 required positional arguments: 'l' and 'b'"
     ]
    }
   ],
   "source": [
    "amit.area()"
   ]
  },
  {
   "cell_type": "code",
   "execution_count": null,
   "id": "ebefe152-4b39-4073-b526-efeb0b4c4855",
   "metadata": {},
   "outputs": [],
   "source": []
  }
 ],
 "metadata": {
  "kernelspec": {
   "display_name": "Python 3 (ipykernel)",
   "language": "python",
   "name": "python3"
  },
  "language_info": {
   "codemirror_mode": {
    "name": "ipython",
    "version": 3
   },
   "file_extension": ".py",
   "mimetype": "text/x-python",
   "name": "python",
   "nbconvert_exporter": "python",
   "pygments_lexer": "ipython3",
   "version": "3.10.8"
  }
 },
 "nbformat": 4,
 "nbformat_minor": 5
}
