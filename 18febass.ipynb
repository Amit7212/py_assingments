{
 "cells": [
  {
   "cell_type": "code",
   "execution_count": 1,
   "id": "5e2692b9-e4e4-4106-bc2c-1daef961a512",
   "metadata": {},
   "outputs": [],
   "source": [
    "#API is an abbreviation for Application Programming Interface which is a collection of communication protocols and subroutines used by various programs\n",
    "#to communicate between them. A programmer can make use of various API tools to make their program easier and simpler. Also,\n",
    "#an API facilitates programmers with an efficient way to develop their software programs. Thus in simpler terms,\n",
    "#an API helps two programs or applications to communicate with each other by providing them with the necessary tools and functions. \n",
    "#It takes the request from the user and sends it to the service provider and then again sends the result generated from the service provider \n",
    "#to the desired user. \n",
    "\n",
    "#If you're looking for real-world examples of APIs, a good place to start is a public API catalog, such as Postman's Public API Network.\n",
    "#The Public API Network, which supports a community of over 25 million developers, is a searchable, highly organized library of APIs that makes it easy\n",
    "#to find the API that's right for you. You can use the network's search functionality if you're looking for something specific,\n",
    "#or browse by category if you want to get inspired. Some companies that have published great examples of APIs on the Public API Network include\n",
    "#Salesforce, Notion, Discord, Pinterest, and DoorDash."
   ]
  },
  {
   "cell_type": "code",
   "execution_count": 2,
   "id": "e6072877-6dbe-40a0-819d-3e18f76a3048",
   "metadata": {},
   "outputs": [],
   "source": [
    "#Advantages:\n",
    "\n",
    "#Increased Interoperability: API solutions enable different software systems to communicate with each other,\n",
    "#regardless of their programming language or platform. This enhances the interoperability between systems, allowing for the exchange of data and \n",
    "#functionality.\n",
    "#Improved Efficiency: API driven infrastructures enable developers to reuse code and functionality from existing software systems, \n",
    "#saving time and reducing the amount of code that needs to be written from scratch.\n",
    "#Better User Experience: APIs can enable third-party developers to create applications that integrate with existing software systems,\n",
    "#providing a better user experience and increased functionality.\n",
    "\n",
    "#Disadvantages:\n",
    "#Security Concerns: API infrastructures can be vulnerable to security breaches, such as SQL injection attacks and cross-site scripting (XSS) attacks, \n",
    "#making it crucial to implement security measures to protect against these threats.\n",
    "#Complexity: APIs can be complex, requiring a significant amount of development effort to implement and maintain.\n",
    "#Compatibility Issues: APIs can have compatibility issues between different versions of the same software system or between different systems, \n",
    "#which can lead to errors and system failures."
   ]
  },
  {
   "cell_type": "code",
   "execution_count": 3,
   "id": "ea0950c4-4ee6-4eeb-9e79-be64b1e307e2",
   "metadata": {},
   "outputs": [],
   "source": [
    "#WEB APIs\n",
    "#A Web API also called Web Services is an extensively used API over the web and can be easily accessed using the HTTP protocols.\n",
    "#A Web API is an open-source interface and can be used by a large number of clients through their phones, tablets, or PCs. \n",
    "#How is an API Different From a Web Application?\n",
    "#An API acts as an interface that allows proper communication between two programs whereas a web application is a network-based resource responsible\n",
    "#for completing a single task. Also, it’s important to know that “All web services are APIs, but not all APIs are web”.\n",
    "\n",
    "#The difference between an API and a web application is that API allows two-way communication and web applications are just a way for user\n",
    "#s to interact through a web browser. A web application may have an API to complete the requests. "
   ]
  },
  {
   "cell_type": "code",
   "execution_count": null,
   "id": "a260c383-4320-4fea-b328-58929da1f4a8",
   "metadata": {},
   "outputs": [],
   "source": [
    "#SOAP stands for Simple Object Access Protocol is a network platform used in a web service to exchange or communicate data between \n",
    "#two different machines on a network. It uses the XML format of data to transfer messages over the HTTP protocol. In Web services,\n",
    "#SOAP allows the user request to interact with other programming languages. In this way, it provides a way to communicate between applications \n",
    "#running on different platforms (Operating system), with programming languages and technologies used in web service\n",
    "\n",
    "\n",
    "#REST stands for REpresentational State Transfer. It is an architectural style that provides standards between computer systems on a web service.\n",
    "#It is a set of constraints used to create a lightweight, scalable, and maintainable web service that facilitates easy communication.\n",
    "#It is a set of constraints used to create a lightweight, scalable and maintainable web service that makes easy communication with each other. \n",
    "#All web services are based on the REST; hence it is called a RESTful service. The purpose of developing a RESTful web service is to make the \n",
    "#web service more effective. The Roy Fielding develops it in 2000, who also developed the HTTP protocol.\n",
    "#It does not depend on a specific protocol to use, but it's used HTTP/HTTPS."
   ]
  }
 ],
 "metadata": {
  "kernelspec": {
   "display_name": "Python 3 (ipykernel)",
   "language": "python",
   "name": "python3"
  },
  "language_info": {
   "codemirror_mode": {
    "name": "ipython",
    "version": 3
   },
   "file_extension": ".py",
   "mimetype": "text/x-python",
   "name": "python",
   "nbconvert_exporter": "python",
   "pygments_lexer": "ipython3",
   "version": "3.10.8"
  }
 },
 "nbformat": 4,
 "nbformat_minor": 5
}
