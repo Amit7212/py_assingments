{
 "cells": [
  {
   "cell_type": "code",
   "execution_count": 2,
   "id": "1a217e99-0c8f-42d3-908d-fd89bc0662b1",
   "metadata": {},
   "outputs": [],
   "source": [
    "def calculate_product(list1):\n",
    "    flattened_list = flatten_list(list1)\n",
    "    product = 1\n",
    "    for num in flattened_list:\n",
    "        if isinstance(num, int):\n",
    "            product *= num\n",
    "    return product\n",
    "\n",
    "def flatten_list(lst):\n",
    "    flattened = []\n",
    "    for item in lst:\n",
    "        if isinstance(item, (list, tuple, set)):\n",
    "            flattened.extend(flatten_list(item))\n",
    "        else:\n",
    "            flattened.append(item)\n",
    "    return flattened"
   ]
  },
  {
   "cell_type": "code",
   "execution_count": 3,
   "id": "9841d5c4-0162-4739-90a1-b2592d937640",
   "metadata": {},
   "outputs": [
    {
     "name": "stdout",
     "output_type": "stream",
     "text": [
      "0\n"
     ]
    }
   ],
   "source": [
    "list1 = [1, 2, 3, 4, [44, 55, 66, True], False, (34, 56, 78, 89, 34), {1, 2, 3, 3, 2, 1}, {1: 34, \"key2\": [55, 67, 78, 89], 4: (45, 22, 61, 34)}, [56, 'data science'], 'Machine Learning']\n",
    "\n",
    "result = calculate_product(list1)\n",
    "print(result)"
   ]
  },
  {
   "cell_type": "code",
   "execution_count": 13,
   "id": "0f1b7af1-3dd9-4858-b1f9-4a56572cc3fd",
   "metadata": {},
   "outputs": [
    {
     "name": "stdout",
     "output_type": "stream",
     "text": [
      "214663680\n"
     ]
    }
   ],
   "source": [
    "def calculate_product(lst):\n",
    "    def flatten_list(lst):\n",
    "        flattened = []\n",
    "        for item in lst:\n",
    "            if isinstance(item, list):\n",
    "                flattened.extend(flatten_list(item))\n",
    "            else:\n",
    "                flattened.append(item)\n",
    "        return flattened\n",
    "\n",
    "    flattened_list = flatten_list(lst)\n",
    "    product = 1\n",
    "    for item in flattened_list: \n",
    "        if isinstance(item, (int, float)):\n",
    "            product *= item\n",
    "    return product\n",
    "\n",
    "list1 = [1, 2, 3, 4, [44, 55, 66, True], (34, 56, 78, 89, 34), {1, 2, 3, 3, 2, 1}, {1: 34, \"key2\": [55, 67, 78, 89], 4: (45, 22, 61, 34)}, [56]]\n",
    "\n",
    "result = calculate_product(list1)\n",
    "print(result)"
   ]
  },
  {
   "cell_type": "code",
   "execution_count": 16,
   "id": "fdf612d2-9719-4827-8d1a-cf78ebfe0d93",
   "metadata": {},
   "outputs": [
    {
     "name": "stdout",
     "output_type": "stream",
     "text": [
      "Encrypted Sentence: r$dzmg$gl$yvxlnv$z$wzgz$hxrvmgrhg.\n"
     ]
    }
   ],
   "source": [
    "def encrypt_message(message):\n",
    "    encrypted_message = \"\"\n",
    "    for char in message:\n",
    "        if char.isalpha():\n",
    "            if char.islower():\n",
    "                encrypted_char = chr(219 - ord(char))\n",
    "                encrypted_message += encrypted_char\n",
    "            else:\n",
    "                encrypted_char = chr(155 - ord(char))\n",
    "                encrypted_message += encrypted_char\n",
    "        elif char == \" \":\n",
    "            encrypted_message += \"$\"\n",
    "        else:\n",
    "            encrypted_message += char\n",
    "    return encrypted_message.lower()\n",
    "\n",
    "input_sentence = \"I want to become a Data Scientist.\"\n",
    "lowercase_input = input_sentence.lower()\n",
    "encrypted_sentence = encrypt_message(lowercase_input)\n",
    "\n",
    "print(\"Encrypted Sentence:\", encrypted_sentence)\n"
   ]
  },
  {
   "cell_type": "code",
   "execution_count": null,
   "id": "119a0925-1975-47e1-90b0-177b6f8b1b73",
   "metadata": {},
   "outputs": [],
   "source": []
  },
  {
   "cell_type": "code",
   "execution_count": null,
   "id": "06253d64-93ab-4db7-9f15-01579720dfe1",
   "metadata": {},
   "outputs": [],
   "source": []
  }
 ],
 "metadata": {
  "kernelspec": {
   "display_name": "Python 3 (ipykernel)",
   "language": "python",
   "name": "python3"
  },
  "language_info": {
   "codemirror_mode": {
    "name": "ipython",
    "version": 3
   },
   "file_extension": ".py",
   "mimetype": "text/x-python",
   "name": "python",
   "nbconvert_exporter": "python",
   "pygments_lexer": "ipython3",
   "version": "3.10.8"
  }
 },
 "nbformat": 4,
 "nbformat_minor": 5
}
