{
 "cells": [
  {
   "cell_type": "code",
   "execution_count": 1,
   "id": "f0e605ad-7f75-40c6-bd49-27f0f7119767",
   "metadata": {},
   "outputs": [],
   "source": [
    "#Exceptions:\n",
    "#In Python, an exception is an event that occurs during the execution of a program that disrupts the normal flow of the program's instructions.\n",
    "#When an exceptional situation arises, Python raises an exception, which can be caught and handled by the program.\n",
    "\n",
    "#Exceptions occur during the runtime of a program.\n",
    "#They are caused by various reasons, such as invalid input, file I/O errors, network issues, or logical errors.\n",
    "#Exceptions can be anticipated and handled using exception handling mechanisms like try-except blocks.\n",
    "#Examples of exceptions in Python include TypeError, ValueError, FileNotFoundError, ZeroDivisionError, and IndexError.\n",
    "#Syntax errors:\n",
    "\n",
    "#Syntax errors occur during the parsing stage, before the code is executed.\n",
    "#They are caused by violating the language's grammar rules or using incorrect syntax.\n",
    "#Syntax errors prevent the code from being compiled or interpreted successfully.\n",
    "#Examples of syntax errors in Python include misspelled keywords, missing colons, mismatched parentheses, or incorrect indentation.\n",
    "#To summarize, exceptions occur during program execution and can be handled, while syntax errors occur during the parsing stage and need to be fixed before the code can run.\n"
   ]
  },
  {
   "cell_type": "code",
   "execution_count": 2,
   "id": "06e3b1c2-f6a6-4c02-b2f4-43acf1196fbd",
   "metadata": {},
   "outputs": [
    {
     "ename": "ZeroDivisionError",
     "evalue": "division by zero",
     "output_type": "error",
     "traceback": [
      "\u001b[0;31m---------------------------------------------------------------------------\u001b[0m",
      "\u001b[0;31mZeroDivisionError\u001b[0m                         Traceback (most recent call last)",
      "Cell \u001b[0;32mIn[2], line 6\u001b[0m\n\u001b[1;32m      3\u001b[0m     \u001b[38;5;28;01mreturn\u001b[39;00m result\n\u001b[1;32m      5\u001b[0m \u001b[38;5;28;01mtry\u001b[39;00m:\n\u001b[0;32m----> 6\u001b[0m     result \u001b[38;5;241m=\u001b[39m \u001b[43mdivide_numbers\u001b[49m\u001b[43m(\u001b[49m\u001b[38;5;241;43m10\u001b[39;49m\u001b[43m,\u001b[49m\u001b[43m \u001b[49m\u001b[38;5;241;43m0\u001b[39;49m\u001b[43m)\u001b[49m\n\u001b[1;32m      7\u001b[0m     \u001b[38;5;28mprint\u001b[39m(\u001b[38;5;124m\"\u001b[39m\u001b[38;5;124mThe result is:\u001b[39m\u001b[38;5;124m\"\u001b[39m, result)\n\u001b[1;32m      8\u001b[0m \u001b[38;5;28;01mexcept\u001b[39;00m \u001b[38;5;167;01mValueError\u001b[39;00m:\n",
      "Cell \u001b[0;32mIn[2], line 2\u001b[0m, in \u001b[0;36mdivide_numbers\u001b[0;34m(a, b)\u001b[0m\n\u001b[1;32m      1\u001b[0m \u001b[38;5;28;01mdef\u001b[39;00m \u001b[38;5;21mdivide_numbers\u001b[39m(a, b):\n\u001b[0;32m----> 2\u001b[0m     result \u001b[38;5;241m=\u001b[39m \u001b[43ma\u001b[49m\u001b[43m \u001b[49m\u001b[38;5;241;43m/\u001b[39;49m\u001b[43m \u001b[49m\u001b[43mb\u001b[49m\n\u001b[1;32m      3\u001b[0m     \u001b[38;5;28;01mreturn\u001b[39;00m result\n",
      "\u001b[0;31mZeroDivisionError\u001b[0m: division by zero"
     ]
    }
   ],
   "source": [
    "#When an exception is not handled, it results in an unhandled exception. In such a scenario, the program's normal flow is disrupted, \n",
    "#and the program terminates abruptly. The exception and its associated error message are usually displayed,\n",
    "#providing information about the cause of the exception.\n",
    "\n",
    "def divide_numbers(a, b):\n",
    "    result = a / b\n",
    "    return result\n",
    "\n",
    "try:\n",
    "    result = divide_numbers(10, 0)\n",
    "    print(\"The result is:\", result)\n",
    "except ValueError:\n",
    "    print(\"A ValueError occurred.\")\n"
   ]
  },
  {
   "cell_type": "code",
   "execution_count": 7,
   "id": "70550fd7-8237-47cb-8494-aa84aaf097a4",
   "metadata": {},
   "outputs": [
    {
     "name": "stdout",
     "output_type": "stream",
     "text": [
      "hdhfhfhf [Errno 2] No such file or directory: 'test9.txt'\n"
     ]
    }
   ],
   "source": [
    "#In Python, exceptions are handled using try-except statements.\n",
    "#These statements allow you to anticipate and handle potential errors or exceptional situations that may occur during the execution of your code\n",
    "try :\n",
    "    f=open(\"test9.txt\",'r')\n",
    "except Exception as e:\n",
    "    print(\"hdhfhfhf\",e)"
   ]
  },
  {
   "cell_type": "code",
   "execution_count": 16,
   "id": "e94f7e19-564c-44b1-91e1-1eb6b8270e03",
   "metadata": {},
   "outputs": [
    {
     "name": "stdout",
     "output_type": "stream",
     "text": [
      "all ok\n"
     ]
    }
   ],
   "source": [
    "try :\n",
    "    f=open(\"testi.txt\",'r')\n",
    "except Exception as e:\n",
    "    print(\"hdhfhfhf\",e)\n",
    "else:\n",
    "    f.close()\n",
    "    print(\"all ok\")"
   ]
  },
  {
   "cell_type": "code",
   "execution_count": 17,
   "id": "01500205-c7ad-44e9-b83d-92c452a1c3d8",
   "metadata": {},
   "outputs": [
    {
     "name": "stdout",
     "output_type": "stream",
     "text": [
      "amit\n"
     ]
    },
    {
     "ename": "FileNotFoundError",
     "evalue": "[Errno 2] No such file or directory: 'test88.txt'",
     "output_type": "error",
     "traceback": [
      "\u001b[0;31m---------------------------------------------------------------------------\u001b[0m",
      "\u001b[0;31mFileNotFoundError\u001b[0m                         Traceback (most recent call last)",
      "Cell \u001b[0;32mIn[17], line 2\u001b[0m\n\u001b[1;32m      1\u001b[0m \u001b[38;5;28;01mtry\u001b[39;00m :\n\u001b[0;32m----> 2\u001b[0m     f\u001b[38;5;241m=\u001b[39m\u001b[38;5;28;43mopen\u001b[39;49m\u001b[43m(\u001b[49m\u001b[38;5;124;43m\"\u001b[39;49m\u001b[38;5;124;43mtest88.txt\u001b[39;49m\u001b[38;5;124;43m\"\u001b[39;49m\u001b[43m,\u001b[49m\u001b[38;5;124;43m'\u001b[39;49m\u001b[38;5;124;43mr\u001b[39;49m\u001b[38;5;124;43m'\u001b[39;49m\u001b[43m)\u001b[49m\n\u001b[1;32m      3\u001b[0m \u001b[38;5;28;01mfinally\u001b[39;00m :\n\u001b[1;32m      4\u001b[0m     \u001b[38;5;28mprint\u001b[39m(\u001b[38;5;124m\"\u001b[39m\u001b[38;5;124mamit\u001b[39m\u001b[38;5;124m\"\u001b[39m)\n",
      "File \u001b[0;32m/opt/conda/lib/python3.10/site-packages/IPython/core/interactiveshell.py:282\u001b[0m, in \u001b[0;36m_modified_open\u001b[0;34m(file, *args, **kwargs)\u001b[0m\n\u001b[1;32m    275\u001b[0m \u001b[38;5;28;01mif\u001b[39;00m file \u001b[38;5;129;01min\u001b[39;00m {\u001b[38;5;241m0\u001b[39m, \u001b[38;5;241m1\u001b[39m, \u001b[38;5;241m2\u001b[39m}:\n\u001b[1;32m    276\u001b[0m     \u001b[38;5;28;01mraise\u001b[39;00m \u001b[38;5;167;01mValueError\u001b[39;00m(\n\u001b[1;32m    277\u001b[0m         \u001b[38;5;124mf\u001b[39m\u001b[38;5;124m\"\u001b[39m\u001b[38;5;124mIPython won\u001b[39m\u001b[38;5;124m'\u001b[39m\u001b[38;5;124mt let you open fd=\u001b[39m\u001b[38;5;132;01m{\u001b[39;00mfile\u001b[38;5;132;01m}\u001b[39;00m\u001b[38;5;124m by default \u001b[39m\u001b[38;5;124m\"\u001b[39m\n\u001b[1;32m    278\u001b[0m         \u001b[38;5;124m\"\u001b[39m\u001b[38;5;124mas it is likely to crash IPython. If you know what you are doing, \u001b[39m\u001b[38;5;124m\"\u001b[39m\n\u001b[1;32m    279\u001b[0m         \u001b[38;5;124m\"\u001b[39m\u001b[38;5;124myou can use builtins\u001b[39m\u001b[38;5;124m'\u001b[39m\u001b[38;5;124m open.\u001b[39m\u001b[38;5;124m\"\u001b[39m\n\u001b[1;32m    280\u001b[0m     )\n\u001b[0;32m--> 282\u001b[0m \u001b[38;5;28;01mreturn\u001b[39;00m \u001b[43mio_open\u001b[49m\u001b[43m(\u001b[49m\u001b[43mfile\u001b[49m\u001b[43m,\u001b[49m\u001b[43m \u001b[49m\u001b[38;5;241;43m*\u001b[39;49m\u001b[43margs\u001b[49m\u001b[43m,\u001b[49m\u001b[43m \u001b[49m\u001b[38;5;241;43m*\u001b[39;49m\u001b[38;5;241;43m*\u001b[39;49m\u001b[43mkwargs\u001b[49m\u001b[43m)\u001b[49m\n",
      "\u001b[0;31mFileNotFoundError\u001b[0m: [Errno 2] No such file or directory: 'test88.txt'"
     ]
    }
   ],
   "source": [
    "try :\n",
    "    f=open(\"test88.txt\",'r')\n",
    "finally :\n",
    "    print(\"amit\")"
   ]
  },
  {
   "cell_type": "code",
   "execution_count": 18,
   "id": "f06b83e8-2850-4ee9-ad4f-ed4bf5e79f59",
   "metadata": {},
   "outputs": [],
   "source": [
    "class validateage(Exception):\n",
    "    def __init__(self,msg):\n",
    "        self.msg=msg"
   ]
  },
  {
   "cell_type": "code",
   "execution_count": 19,
   "id": "ed43bb77-d2df-4090-8410-d31397a8ad02",
   "metadata": {},
   "outputs": [],
   "source": [
    "def validateagee(age):\n",
    "    if age < 0:\n",
    "        raise validateage(\"entered age is negative\")\n",
    "    elif age > 200:\n",
    "        raise validateage(\"antered age is very high\")\n",
    "    else :\n",
    "        print(\"age is valid\")"
   ]
  },
  {
   "cell_type": "code",
   "execution_count": 20,
   "id": "11d1a371-80b6-4bf0-a662-4083a60a0a56",
   "metadata": {},
   "outputs": [
    {
     "name": "stdin",
     "output_type": "stream",
     "text": [
      "enter age 666\n"
     ]
    },
    {
     "name": "stdout",
     "output_type": "stream",
     "text": [
      "antered age is very high\n"
     ]
    }
   ],
   "source": [
    "try :\n",
    "    age=int(input(\"enter age\"))\n",
    "    validateagee(age)\n",
    "except validateage as e:\n",
    "    print(e)"
   ]
  },
  {
   "cell_type": "code",
   "execution_count": 21,
   "id": "5f949792-2b16-4879-8e9e-de07f95d4bf9",
   "metadata": {},
   "outputs": [],
   "source": [
    "class withdrawamount(Exception):\n",
    "    def __init__(self,balance):\n",
    "        self.balance=balance"
   ]
  },
  {
   "cell_type": "code",
   "execution_count": 22,
   "id": "4a1c5ee6-5ab3-4d35-acce-40c7e9fd4da6",
   "metadata": {},
   "outputs": [],
   "source": [
    "def getamount(cash):\n",
    "    if cash <0:\n",
    "        raise withdrawamount(\"amount is not sufficent\")\n",
    "    else :\n",
    "        print(\"amount is sufficent\")"
   ]
  },
  {
   "cell_type": "code",
   "execution_count": 24,
   "id": "8b8774a6-0e0b-4908-a092-a2a71a4eafed",
   "metadata": {},
   "outputs": [
    {
     "name": "stdin",
     "output_type": "stream",
     "text": [
      "enter the cash -876\n"
     ]
    },
    {
     "name": "stdout",
     "output_type": "stream",
     "text": [
      "amount is not sufficent\n"
     ]
    }
   ],
   "source": [
    "try :\n",
    "    cash=int(input(\"enter the cash\"))\n",
    "    getamount(cash)\n",
    "except withdrawamount as e:\n",
    "    print (e)"
   ]
  },
  {
   "cell_type": "code",
   "execution_count": 25,
   "id": "b320fd83-e027-46f5-bc1e-c5cf2651d941",
   "metadata": {},
   "outputs": [],
   "source": [
    "#Custom exceptions in Python are user-defined exceptions that allow you to create specific error conditions for your code.\n",
    "#While Python provides built-in exceptions for common error situations, \n",
    "#custom exceptions give you the flexibility to handle unique scenarios that are specific to your application or domain.\n",
    "\n",
    "#There are several reasons why we may need custom exceptions:\n",
    "#1)clarity\n",
    "#2)readability\n",
    "#3)easyy error handling\n",
    "\n",
    "\n",
    "class carspeed(Exception):\n",
    "    def __init__(self,run):\n",
    "        self.run=run"
   ]
  },
  {
   "cell_type": "code",
   "execution_count": 30,
   "id": "487a4c3b-9aac-4b3b-993a-2814394733f4",
   "metadata": {},
   "outputs": [],
   "source": [
    "def runspeed(speed):\n",
    "    if speed <0:\n",
    "        raise carspeed(\"cant win the race\")\n",
    "    else :\n",
    "        print(\"may be win the race\")"
   ]
  },
  {
   "cell_type": "code",
   "execution_count": 31,
   "id": "46f77677-a747-41b4-9519-95ea1f4b31ff",
   "metadata": {},
   "outputs": [
    {
     "name": "stdin",
     "output_type": "stream",
     "text": [
      "enter the speed -8\n"
     ]
    },
    {
     "name": "stdout",
     "output_type": "stream",
     "text": [
      "cant win the race\n"
     ]
    }
   ],
   "source": [
    "try :\n",
    "    speed=int(input(\"enter the speed\"))\n",
    "    runspeed(speed)\n",
    "except carspeed as e:\n",
    "    \n",
    "    print(e)"
   ]
  },
  {
   "cell_type": "code",
   "execution_count": 34,
   "id": "8b55fac1-c0c6-47d6-80cd-ec5a4088ace9",
   "metadata": {},
   "outputs": [],
   "source": [
    "class CustomException(Exception):\n",
    "    def __init__(self, message):\n",
    "        self.message = message"
   ]
  },
  {
   "cell_type": "code",
   "execution_count": 35,
   "id": "fa793929-72c1-4ba3-b79e-56c436389ca1",
   "metadata": {},
   "outputs": [],
   "source": [
    "def validateagee(age):\n",
    "    if age < 0:\n",
    "        raise validateage(\" age can not be  negative\")\n",
    "    elif age > 200:\n",
    "        raise validateage(\"antered age is very high\")\n",
    "    else :\n",
    "        print(\"age is valid\")"
   ]
  },
  {
   "cell_type": "code",
   "execution_count": null,
   "id": "57b5190a-2af7-4958-846a-bf6321f32e41",
   "metadata": {},
   "outputs": [],
   "source": [
    "try :\n",
    "    age=int(input(\"enter age\"))\n",
    "    validateagee(age)\n",
    "except validateage as e:\n",
    "    print(e)"
   ]
  }
 ],
 "metadata": {
  "kernelspec": {
   "display_name": "Python 3 (ipykernel)",
   "language": "python",
   "name": "python3"
  },
  "language_info": {
   "codemirror_mode": {
    "name": "ipython",
    "version": 3
   },
   "file_extension": ".py",
   "mimetype": "text/x-python",
   "name": "python",
   "nbconvert_exporter": "python",
   "pygments_lexer": "ipython3",
   "version": "3.10.8"
  }
 },
 "nbformat": 4,
 "nbformat_minor": 5
}
