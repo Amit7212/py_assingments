{
 "cells": [
  {
   "cell_type": "code",
   "execution_count": 1,
   "id": "05915f25-9e39-4bd4-b8a2-43337441a769",
   "metadata": {},
   "outputs": [],
   "source": [
    "# Class:\n",
    "#A class is a user-defined data type. It consists of data members and member functions,\n",
    "#which can be accessed and used by creating an instance of that class.\n",
    "#It represents the set of properties or methods that are common to all objects of one type. \n",
    "#A class is like a blueprint for an object.\n",
    "#For Example: Consider the Class of Cars. \n",
    "#There may be many cars with different names and brands\n",
    "#but all of them will share some common properties like all of them will have 4 wheels,\n",
    "#speed Limit, Mileage range, etc. So here, Car is the class, and wheels, speed limits,\n",
    "#mileage are their properties."
   ]
  },
  {
   "cell_type": "code",
   "execution_count": 2,
   "id": "2a899b3c-f165-4106-8aa0-2ea7c85158d4",
   "metadata": {},
   "outputs": [],
   "source": [
    "#Object: \n",
    "#It is a basic unit of Object-Oriented Programming and represents the real-life entities.\n",
    "#An Object is an instance of a Class. When a class is defined,\n",
    "#no memory is allocated but when it is instantiated (i.e. an object is created) memory is allocated.\n",
    "#An object has an identity, state, and behavior.\n",
    "#Each object contains data and code to manipulate the data.\n",
    "#Objects can interact without having to know details of each other’s data or code,\n",
    "#it is sufficient to know the type of message accepted and type of response returned by the objects. \n",
    "#For example “Dog” is a real-life Object, \n",
    "#which has some characteristics like color, Breed, Bark, Sleep, and Eats."
   ]
  },
  {
   "cell_type": "code",
   "execution_count": 3,
   "id": "ba7a1f17-908e-4726-b226-feb1e5aa8c6d",
   "metadata": {},
   "outputs": [],
   "source": [
    "#The four pillars of object-oriented programming are:\n",
    "#Abstraction\n",
    "#Encapsulation\n",
    "#Inheritance\n",
    "#Polymorphism"
   ]
  },
  {
   "cell_type": "code",
   "execution_count": 4,
   "id": "7df3384b-1134-48b6-855e-874d289e2833",
   "metadata": {},
   "outputs": [],
   "source": [
    "#What is __init__ in Python?\n",
    "#The Default __init__ Constructor in C++ and Java.\n",
    "#Constructors are used to initializing the object’s state.\n",
    "#The task of constructors is to initialize(assign values) to the data members of the class\n",
    "#when an object of the class is created. Like methods,\n",
    "#a constructor also contains a collection of statements(i.e. instructions) that are executed\n",
    "#at the time of Object creation. It is run as soon as an object of a class is instantiated.\n",
    "#The method is useful to do any initialization you want to do with your object.\n",
    "class pwskills1:\n",
    "    def __init__(self,cn,gmail,er_no):\n",
    "        self.cn=cn\n",
    "        self.gmail=gmail\n",
    "        self.er_no=er_no\n",
    "    def return_details(self):\n",
    "        \n",
    "        return self.cn,self.gmail,self.er_no"
   ]
  },
  {
   "cell_type": "code",
   "execution_count": 5,
   "id": "2b9ca930-eb48-4c4b-802e-3d9b87d18a65",
   "metadata": {},
   "outputs": [],
   "source": [
    "amit=pwskills1(7217560848,\"amit@gmail.com\",10)"
   ]
  },
  {
   "cell_type": "code",
   "execution_count": 6,
   "id": "4457af31-78a1-48fa-b124-18a006d70c7a",
   "metadata": {},
   "outputs": [
    {
     "data": {
      "text/plain": [
       "(7217560848, 'amit@gmail.com', 10)"
      ]
     },
     "execution_count": 6,
     "metadata": {},
     "output_type": "execute_result"
    }
   ],
   "source": [
    "amit.return_details()"
   ]
  },
  {
   "cell_type": "code",
   "execution_count": 7,
   "id": "b5c86c89-e8d0-40fa-a0a5-9dc744af3acc",
   "metadata": {},
   "outputs": [],
   "source": [
    "#self represents the instance of the class. By using the “self”\n",
    "#we can access the attributes and methods of the class in python.\n",
    "#It binds the attributes with the given arguments."
   ]
  },
  {
   "cell_type": "code",
   "execution_count": 8,
   "id": "0d791ec1-8835-4754-a46a-cec66bb7f59b",
   "metadata": {},
   "outputs": [],
   "source": [
    "#nheritance is defined as a mechanism where the sub or child class inherits\n",
    "#the properties and characteristics of the super class or other derived classes.\n",
    "#It also supports additional features of extracting properties from the child class and using \n",
    "#it into other derived classes.\"\n"
   ]
  },
  {
   "cell_type": "code",
   "execution_count": 9,
   "id": "08f73182-52e0-4e77-90df-50ab17a6f56a",
   "metadata": {},
   "outputs": [],
   "source": [
    "#Single inheritance: When a child class inherits from only one parent class,\n",
    "#it is called single inheritance. We saw an example above.\n"
   ]
  },
  {
   "cell_type": "code",
   "execution_count": 10,
   "id": "3d18baa7-69c8-41ed-a817-4058b69b754f",
   "metadata": {},
   "outputs": [
    {
     "name": "stdout",
     "output_type": "stream",
     "text": [
      "Base1\n",
      "Base2\n",
      "Derived\n",
      "Geek1 Geek2\n"
     ]
    }
   ],
   "source": [
    "#Multilevel inheritance: When we have a child and grandchild relationship.\n",
    "#This means that a child class will inherit from its parent class, \n",
    "#which in turn is inheriting from its parent class.\n",
    "# Python example to show the working of multiple\n",
    "# inheritance\n",
    "\n",
    "class Base1(object):\n",
    "\tdef __init__(self):\n",
    "\t\tself.str1 = \"Geek1\"\n",
    "\t\tprint(\"Base1\")\n",
    "\n",
    "\n",
    "class Base2(object):\n",
    "\tdef __init__(self):\n",
    "\t\tself.str2 = \"Geek2\"\n",
    "\t\tprint(\"Base2\")\n",
    "\n",
    "\n",
    "class Derived(Base1, Base2):\n",
    "\tdef __init__(self):\n",
    "\n",
    "\t\t# Calling constructors of Base1\n",
    "\t\t# and Base2 classes\n",
    "\t\tBase1.__init__(self)\n",
    "\t\tBase2.__init__(self)\n",
    "\t\tprint(\"Derived\")\n",
    "\n",
    "\tdef printStrs(self):\n",
    "\t\tprint(self.str1, self.str2)\n",
    "\n",
    "\n",
    "ob = Derived()\n",
    "ob.printStrs()\n"
   ]
  },
  {
   "cell_type": "code",
   "execution_count": null,
   "id": "b42550f6-bc29-4412-960e-37e13c6dd92d",
   "metadata": {},
   "outputs": [],
   "source": []
  }
 ],
 "metadata": {
  "kernelspec": {
   "display_name": "Python 3 (ipykernel)",
   "language": "python",
   "name": "python3"
  },
  "language_info": {
   "codemirror_mode": {
    "name": "ipython",
    "version": 3
   },
   "file_extension": ".py",
   "mimetype": "text/x-python",
   "name": "python",
   "nbconvert_exporter": "python",
   "pygments_lexer": "ipython3",
   "version": "3.10.8"
  }
 },
 "nbformat": 4,
 "nbformat_minor": 5
}
