{
 "cells": [
  {
   "cell_type": "code",
   "execution_count": 1,
   "id": "e2aa5840-851b-4baf-80b9-414f20ed1781",
   "metadata": {},
   "outputs": [],
   "source": [
    "# open function is used to open a file\n",
    "#'r' (Read mode): This is the default mode when you omit the mode parameter. It allows you to read the contents of a file.\n",
    "#If the file does not exist or cannot be opened, an error will occur.\n",
    "\n",
    "#'w' (Write mode): This mode allows you to create a new file or overwrite the contents of an existing file. \n",
    "#If the file does not exist, a new file will be created. If the file exists, \n",
    "#the previous contents will be deleted and replaced with the new data.\n",
    "\n",
    "#'a' (Append mode): This mode allows you to open a file for appending data. If the file exists, new data will be added to the end of the file.\n",
    "#If the file does not exist, a new file will be created.\n",
    "\n",
    "#'x' (Exclusive creation mode): This mode is used to create a new file, but it will raise an error if the file already exists.\n",
    "#This can be useful when you want to ensure that a file does not already exist before creating it.\n",
    "\n",
    "#'b' (Binary mode): This mode is used when working with binary files, such as image or video files.\n",
    "#It ensures that the file is opened in binary format, which is necessary to correctly handle binary data.\n",
    "\n",
    "#'t' (Text mode): This mode is the default when working with text files. It specifies that the file should be opened in text mode,\n",
    "#allowing you to read or write text data."
   ]
  },
  {
   "cell_type": "code",
   "execution_count": 2,
   "id": "ad92d581-e548-4a03-8d7c-0a298041661e",
   "metadata": {},
   "outputs": [],
   "source": [
    "#The close() function is used in file handling to close an open file and to see the output.\n",
    "#It is important to close a file after you have finished working with it for several reasons:\n",
    "\n",
    "#1)Resource management\n",
    "#2)Data integrity\n",
    "#3)file locks\n",
    "#4)Conserving system resources\n"
   ]
  },
  {
   "cell_type": "code",
   "execution_count": 3,
   "id": "53a5d27b-ad52-4329-aa6e-bc00bbf2c992",
   "metadata": {},
   "outputs": [],
   "source": [
    "f=open(\"test.txt\",'w')"
   ]
  },
  {
   "cell_type": "code",
   "execution_count": 5,
   "id": "742a5e74-34b0-4d15-9117-45587680fa8a",
   "metadata": {},
   "outputs": [
    {
     "data": {
      "text/plain": [
       "'/home/jovyan/work'"
      ]
     },
     "execution_count": 5,
     "metadata": {},
     "output_type": "execute_result"
    }
   ],
   "source": [
    "pwd"
   ]
  },
  {
   "cell_type": "code",
   "execution_count": 8,
   "id": "78de558b-3dee-4111-a389-d22b169ada6b",
   "metadata": {},
   "outputs": [
    {
     "name": "stdout",
     "output_type": "stream",
     "text": [
      " 10febassingment.ipynb            Untitled15.ipynb   Untitled54.ipynb\n",
      " 2febassmntloop.ipynb             Untitled16.ipynb   Untitled55.ipynb\n",
      " 2febloopasss.ipynb               Untitled17.ipynb   Untitled56.ipynb\n",
      " 2ndfebaasloop.ipynb              Untitled18.ipynb   Untitled57.ipynb\n",
      " 2ndfebloopass.ipynb              Untitled19.ipynb   Untitled58.ipynb\n",
      " 2ndfebloop.ipynb                 Untitled1.ipynb    Untitled59.ipynb\n",
      " 30janassmnt.ipynb                Untitled20.ipynb   Untitled5.ipynb\n",
      " 3febass.ipynb                    Untitled21.ipynb   Untitled60.ipynb\n",
      " 4febass.ipynb                    Untitled22.ipynb   Untitled61.ipynb\n",
      " 5febass.ipynb                    Untitled23.ipynb   Untitled62.ipynb\n",
      "'  6 febassing.ipynb'             Untitled24.ipynb   Untitled63.ipynb\n",
      " 7febassingment.ipynb             Untitled25.ipynb   Untitled64.ipynb\n",
      " 8febassingment.ipynb             Untitled26.ipynb   Untitled65.ipynb\n",
      " 9febassingment.ipynb             Untitled27.ipynb   Untitled66.ipynb\n",
      " abstraction.ipynb                Untitled28.ipynb   Untitled67.ipynb\n",
      " classmethods.ipynb               Untitled29.ipynb   Untitled68.ipynb\n",
      " classoops.ipynb                  Untitled2.ipynb    Untitled69.ipynb\n",
      " collegetimepas.ipynb             Untitled30.ipynb   Untitled6.ipynb\n",
      " comprahension.ipynb              Untitled31.ipynb   Untitled70.ipynb\n",
      " controlstatement.ipynb           Untitled32.ipynb   Untitled71.ipynb\n",
      " decorater.ipynb                  Untitled33.ipynb   Untitled72.ipynb\n",
      " encapsulation.ipynb              Untitled34.ipynb   Untitled73.ipynb\n",
      " fact.ipynb                       Untitled35.ipynb   Untitled74.ipynb\n",
      " function.ipynb                   Untitled36.ipynb   Untitled75.ipynb\n",
      " generatorfunction.ipynb          Untitled37.ipynb   Untitled76.ipynb\n",
      " inheritance.ipynb                Untitled38.ipynb   Untitled77.ipynb\n",
      " lamdafunction.ipynb              Untitled39.ipynb   Untitled78.ipynb\n",
      " loop.ipynb                       Untitled3.ipynb    Untitled79.ipynb\n",
      " mapreduceflterfunction.ipynb     Untitled40.ipynb   Untitled7.ipynb\n",
      " polymorphism.ipynb               Untitled41.ipynb   Untitled80.ipynb\n",
      " propertydecorators.ipynb         Untitled42.ipynb   Untitled81.ipynb\n",
      " python.dict                      Untitled43.ipynb   Untitled82.ipynb\n",
      " README.md                        Untitled44.ipynb   Untitled83.ipynb\n",
      " sample-code.ipynb                Untitled45.ipynb   Untitled84.ipynb\n",
      " specialmagicdundermethod.ipynb   Untitled46.ipynb   Untitled85.ipynb\n",
      " staticmethod.ipynb               Untitled47.ipynb   Untitled86.ipynb\n",
      " test.text                        Untitled48.ipynb   Untitled8.ipynb\n",
      " test.txt                         Untitled49.ipynb   Untitled9.ipynb\n",
      " Untitled10.ipynb                 Untitled4.ipynb   \u001b[0m\u001b[01;34m'Untitled Folder'\u001b[0m/\n",
      " Untitled11.ipynb                 Untitled50.ipynb   Untitled.ipynb\n",
      " Untitled12.ipynb                 Untitled51.ipynb   workingwithefilee.ipynb\n",
      " Untitled13.ipynb                 Untitled52.ipynb   workingwithfile.ipynb\n",
      " Untitled14.ipynb                 Untitled53.ipynb\n"
     ]
    }
   ],
   "source": [
    "ls"
   ]
  },
  {
   "cell_type": "code",
   "execution_count": 9,
   "id": "857d72e1-303e-4541-91d1-02617c53ba0e",
   "metadata": {},
   "outputs": [
    {
     "data": {
      "text/plain": [
       "33"
      ]
     },
     "execution_count": 9,
     "metadata": {},
     "output_type": "execute_result"
    }
   ],
   "source": [
    "f.write(\"i want to become a Data Scientist\")"
   ]
  },
  {
   "cell_type": "code",
   "execution_count": 13,
   "id": "c0488eef-bbce-405c-9f98-178c687739e4",
   "metadata": {},
   "outputs": [],
   "source": [
    "f.close()"
   ]
  },
  {
   "cell_type": "code",
   "execution_count": 15,
   "id": "b920ac7e-55df-4145-b947-18109d787cde",
   "metadata": {},
   "outputs": [],
   "source": [
    "f=open(\"test.txt\",'r')"
   ]
  },
  {
   "cell_type": "code",
   "execution_count": 16,
   "id": "8060c126-8da8-4028-a8e1-d18ac071767d",
   "metadata": {},
   "outputs": [
    {
     "data": {
      "text/plain": [
       "'i want to become a Data Scientist'"
      ]
     },
     "execution_count": 16,
     "metadata": {},
     "output_type": "execute_result"
    }
   ],
   "source": [
    "f.read()"
   ]
  },
  {
   "cell_type": "code",
   "execution_count": 30,
   "id": "954931d3-4ac7-48f9-94c9-02cd68154345",
   "metadata": {},
   "outputs": [],
   "source": [
    "#read(): The read() method is used to read the entire content of a file as a single string.\n",
    "#It reads from the current position of the file pointer until the end of the file.\n",
    "\n",
    "\n",
    "#readline(): The readline() method is used to read a single line from a file.\n",
    "#It reads from the current position of the file pointer until it encounters a newline character ('\\n') or reaches the end of the file.\n",
    "\n",
    "#readlines(): The readlines() method is used to read all lines from a file and returns them as a list of strings.\n",
    "#Each line is stored as a separate element in the list.\n",
    "\n",
    "\n",
    "f=open(\"test1.txt\",'w')"
   ]
  },
  {
   "cell_type": "code",
   "execution_count": 32,
   "id": "266e24b3-9f80-48de-8374-bafc7f995b0c",
   "metadata": {},
   "outputs": [
    {
     "data": {
      "text/plain": [
       "'/home/jovyan/work'"
      ]
     },
     "execution_count": 32,
     "metadata": {},
     "output_type": "execute_result"
    }
   ],
   "source": [
    "pwd"
   ]
  },
  {
   "cell_type": "code",
   "execution_count": 34,
   "id": "42850263-e380-4d6f-9fdf-2aabbdc9cd2f",
   "metadata": {},
   "outputs": [
    {
     "name": "stdout",
     "output_type": "stream",
     "text": [
      " 10febassingment.ipynb            Untitled14.ipynb   Untitled53.ipynb\n",
      " 2febassmntloop.ipynb             Untitled15.ipynb   Untitled54.ipynb\n",
      " 2febloopasss.ipynb               Untitled16.ipynb   Untitled55.ipynb\n",
      " 2ndfebaasloop.ipynb              Untitled17.ipynb   Untitled56.ipynb\n",
      " 2ndfebloopass.ipynb              Untitled18.ipynb   Untitled57.ipynb\n",
      " 2ndfebloop.ipynb                 Untitled19.ipynb   Untitled58.ipynb\n",
      " 30janassmnt.ipynb                Untitled1.ipynb    Untitled59.ipynb\n",
      " 3febass.ipynb                    Untitled20.ipynb   Untitled5.ipynb\n",
      " 4febass.ipynb                    Untitled21.ipynb   Untitled60.ipynb\n",
      " 5febass.ipynb                    Untitled22.ipynb   Untitled61.ipynb\n",
      "'  6 febassing.ipynb'             Untitled23.ipynb   Untitled62.ipynb\n",
      " 7febassingment.ipynb             Untitled24.ipynb   Untitled63.ipynb\n",
      " 8febassingment.ipynb             Untitled25.ipynb   Untitled64.ipynb\n",
      " 9febassingment.ipynb             Untitled26.ipynb   Untitled65.ipynb\n",
      " abstraction.ipynb                Untitled27.ipynb   Untitled66.ipynb\n",
      " classmethods.ipynb               Untitled28.ipynb   Untitled67.ipynb\n",
      " classoops.ipynb                  Untitled29.ipynb   Untitled68.ipynb\n",
      " collegetimepas.ipynb             Untitled2.ipynb    Untitled69.ipynb\n",
      " comprahension.ipynb              Untitled30.ipynb   Untitled6.ipynb\n",
      " controlstatement.ipynb           Untitled31.ipynb   Untitled70.ipynb\n",
      " decorater.ipynb                  Untitled32.ipynb   Untitled71.ipynb\n",
      " encapsulation.ipynb              Untitled33.ipynb   Untitled72.ipynb\n",
      " fact.ipynb                       Untitled34.ipynb   Untitled73.ipynb\n",
      " function.ipynb                   Untitled35.ipynb   Untitled74.ipynb\n",
      " generatorfunction.ipynb          Untitled36.ipynb   Untitled75.ipynb\n",
      " inheritance.ipynb                Untitled37.ipynb   Untitled76.ipynb\n",
      " lamdafunction.ipynb              Untitled38.ipynb   Untitled77.ipynb\n",
      " loop.ipynb                       Untitled39.ipynb   Untitled78.ipynb\n",
      " mapreduceflterfunction.ipynb     Untitled3.ipynb    Untitled79.ipynb\n",
      " polymorphism.ipynb               Untitled40.ipynb   Untitled7.ipynb\n",
      " propertydecorators.ipynb         Untitled41.ipynb   Untitled80.ipynb\n",
      " python.dict                      Untitled42.ipynb   Untitled81.ipynb\n",
      " README.md                        Untitled43.ipynb   Untitled82.ipynb\n",
      " sample-code.ipynb                Untitled44.ipynb   Untitled83.ipynb\n",
      " specialmagicdundermethod.ipynb   Untitled45.ipynb   Untitled84.ipynb\n",
      " staticmethod.ipynb               Untitled46.ipynb   Untitled85.ipynb\n",
      " test1.txt                        Untitled47.ipynb   Untitled86.ipynb\n",
      " test.text                        Untitled48.ipynb   Untitled8.ipynb\n",
      " test.txt                         Untitled49.ipynb   Untitled9.ipynb\n",
      " Untitled10.ipynb                 Untitled4.ipynb   \u001b[0m\u001b[01;34m'Untitled Folder'\u001b[0m/\n",
      " Untitled11.ipynb                 Untitled50.ipynb   Untitled.ipynb\n",
      " Untitled12.ipynb                 Untitled51.ipynb   workingwithefilee.ipynb\n",
      " Untitled13.ipynb                 Untitled52.ipynb   workingwithfile.ipynb\n"
     ]
    }
   ],
   "source": [
    "ls"
   ]
  },
  {
   "cell_type": "code",
   "execution_count": 35,
   "id": "54f0f5fa-4498-42b5-8b7e-32432317a9fd",
   "metadata": {},
   "outputs": [
    {
     "data": {
      "text/plain": [
       "84"
      ]
     },
     "execution_count": 35,
     "metadata": {},
     "output_type": "execute_result"
    }
   ],
   "source": [
    "f.write(\"i want to become a Data Scientistrtgrgberioerioghweeighjksuusdgb83qwrioyiowryhoiyhwa\")"
   ]
  },
  {
   "cell_type": "code",
   "execution_count": 36,
   "id": "c25c51a2-cf6a-4b95-bab1-7bf5508dc3f1",
   "metadata": {},
   "outputs": [],
   "source": [
    "f.close()"
   ]
  },
  {
   "cell_type": "code",
   "execution_count": 37,
   "id": "422c51cd-dcb7-4ea9-98da-c3440ddf4870",
   "metadata": {},
   "outputs": [],
   "source": [
    "f=open(\"test1.txt\",'r')"
   ]
  },
  {
   "cell_type": "code",
   "execution_count": 38,
   "id": "de06a132-6b95-46e9-b984-ae1a9db30ee1",
   "metadata": {},
   "outputs": [
    {
     "data": {
      "text/plain": [
       "'i want to become a Data Scientistrtgrgberioerioghweeighjksuusdgb83qwrioyiowryhoiyhwai want to become a Data Scientistrtgrgberioerioghweeighjksuusdgb83qwrioyiowryhoiyhwa'"
      ]
     },
     "execution_count": 38,
     "metadata": {},
     "output_type": "execute_result"
    }
   ],
   "source": [
    "f.read()"
   ]
  },
  {
   "cell_type": "code",
   "execution_count": 39,
   "id": "29106a8d-7080-4c21-884e-8921db6b5751",
   "metadata": {},
   "outputs": [
    {
     "data": {
      "text/plain": [
       "''"
      ]
     },
     "execution_count": 39,
     "metadata": {},
     "output_type": "execute_result"
    }
   ],
   "source": [
    "f.readline()"
   ]
  },
  {
   "cell_type": "code",
   "execution_count": 42,
   "id": "ce83100c-e880-42a5-a373-f1d5da4130e8",
   "metadata": {},
   "outputs": [
    {
     "data": {
      "text/plain": [
       "0"
      ]
     },
     "execution_count": 42,
     "metadata": {},
     "output_type": "execute_result"
    }
   ],
   "source": [
    "f.seek(0)"
   ]
  },
  {
   "cell_type": "code",
   "execution_count": 41,
   "id": "79dbd587-f9ad-431c-96e4-d7bdd492a273",
   "metadata": {},
   "outputs": [
    {
     "data": {
      "text/plain": [
       "'i want to become a Data Scientistrtgrgberioerioghweeighjksuusdgb83qwrioyiowryhoiyhwai want to become a Data Scientistrtgrgberioerioghweeighjksuusdgb83qwrioyiowryhoiyhwa'"
      ]
     },
     "execution_count": 41,
     "metadata": {},
     "output_type": "execute_result"
    }
   ],
   "source": [
    "f.readline()"
   ]
  },
  {
   "cell_type": "code",
   "execution_count": 43,
   "id": "71b75cf1-eb35-438c-a4c0-8b8873f4093a",
   "metadata": {},
   "outputs": [
    {
     "data": {
      "text/plain": [
       "['i want to become a Data Scientistrtgrgberioerioghweeighjksuusdgb83qwrioyiowryhoiyhwai want to become a Data Scientistrtgrgberioerioghweeighjksuusdgb83qwrioyiowryhoiyhwa']"
      ]
     },
     "execution_count": 43,
     "metadata": {},
     "output_type": "execute_result"
    }
   ],
   "source": [
    "f.readlines()"
   ]
  },
  {
   "cell_type": "code",
   "execution_count": 44,
   "id": "fde3f2d0-9df9-4d9a-aaf7-09b703181d2c",
   "metadata": {},
   "outputs": [],
   "source": [
    "#The with statement in Python is used in conjunction with the open() function to handle file operations. \n",
    "#It provides a convenient way to ensure that a file is properly opened and closed, even if an exception occurs during the file processing.\n",
    "\n",
    "#When you use the open() function to open a file, you need to explicitly close the file when you're done working with it.\n",
    "#Failing to close a file can lead to resource leaks and other issues, especially when dealing with a large number of files or when working on long-running programs.\n",
    "\n",
    "#The with statement simplifies the process of opening and closing files by automatically taking care of the cleanup process. \n",
    "#It creates a context within which the file is opened and guarantees that the file will be closed correctly, regardless of whether an exception occurs or not. Here's an example:\n",
    "\n",
    "#advantages\n",
    "\n",
    "#1) Automatic resource management\n",
    "#2) exception handling\n",
    "#3) readability and simplicity"
   ]
  },
  {
   "cell_type": "code",
   "execution_count": 46,
   "id": "86da5630-4e64-4355-812c-7a5cf381245f",
   "metadata": {},
   "outputs": [],
   "source": [
    "#write(): This function is used to write a single string of data to a file.\n",
    "f=open(\"test3.txt\",'w')"
   ]
  },
  {
   "cell_type": "code",
   "execution_count": 47,
   "id": "44e6f238-4a70-4992-b307-3a50082694ed",
   "metadata": {},
   "outputs": [
    {
     "data": {
      "text/plain": [
       "'/home/jovyan/work'"
      ]
     },
     "execution_count": 47,
     "metadata": {},
     "output_type": "execute_result"
    }
   ],
   "source": [
    "pwd"
   ]
  },
  {
   "cell_type": "code",
   "execution_count": 48,
   "id": "a6ba5219-ffb0-4b1a-8c63-09dc47336708",
   "metadata": {},
   "outputs": [
    {
     "name": "stdout",
     "output_type": "stream",
     "text": [
      " 10febassingment.ipynb            Untitled13.ipynb   Untitled53.ipynb\n",
      " 2febassmntloop.ipynb             Untitled14.ipynb   Untitled54.ipynb\n",
      " 2febloopasss.ipynb               Untitled15.ipynb   Untitled55.ipynb\n",
      " 2ndfebaasloop.ipynb              Untitled16.ipynb   Untitled56.ipynb\n",
      " 2ndfebloopass.ipynb              Untitled17.ipynb   Untitled57.ipynb\n",
      " 2ndfebloop.ipynb                 Untitled18.ipynb   Untitled58.ipynb\n",
      " 30janassmnt.ipynb                Untitled19.ipynb   Untitled59.ipynb\n",
      " 3febass.ipynb                    Untitled1.ipynb    Untitled5.ipynb\n",
      " 4febass.ipynb                    Untitled20.ipynb   Untitled60.ipynb\n",
      " 5febass.ipynb                    Untitled21.ipynb   Untitled61.ipynb\n",
      "'  6 febassing.ipynb'             Untitled22.ipynb   Untitled62.ipynb\n",
      " 7febassingment.ipynb             Untitled23.ipynb   Untitled63.ipynb\n",
      " 8febassingment.ipynb             Untitled24.ipynb   Untitled64.ipynb\n",
      " 9febassingment.ipynb             Untitled25.ipynb   Untitled65.ipynb\n",
      " abstraction.ipynb                Untitled26.ipynb   Untitled66.ipynb\n",
      " classmethods.ipynb               Untitled27.ipynb   Untitled67.ipynb\n",
      " classoops.ipynb                  Untitled28.ipynb   Untitled68.ipynb\n",
      " collegetimepas.ipynb             Untitled29.ipynb   Untitled69.ipynb\n",
      " comprahension.ipynb              Untitled2.ipynb    Untitled6.ipynb\n",
      " controlstatement.ipynb           Untitled30.ipynb   Untitled70.ipynb\n",
      " decorater.ipynb                  Untitled31.ipynb   Untitled71.ipynb\n",
      " encapsulation.ipynb              Untitled32.ipynb   Untitled72.ipynb\n",
      " example.txt                      Untitled33.ipynb   Untitled73.ipynb\n",
      " fact.ipynb                       Untitled34.ipynb   Untitled74.ipynb\n",
      " function.ipynb                   Untitled35.ipynb   Untitled75.ipynb\n",
      " generatorfunction.ipynb          Untitled36.ipynb   Untitled76.ipynb\n",
      " inheritance.ipynb                Untitled37.ipynb   Untitled77.ipynb\n",
      " lamdafunction.ipynb              Untitled38.ipynb   Untitled78.ipynb\n",
      " loop.ipynb                       Untitled39.ipynb   Untitled79.ipynb\n",
      " mapreduceflterfunction.ipynb     Untitled3.ipynb    Untitled7.ipynb\n",
      " polymorphism.ipynb               Untitled40.ipynb   Untitled80.ipynb\n",
      " propertydecorators.ipynb         Untitled41.ipynb   Untitled81.ipynb\n",
      " python.dict                      Untitled42.ipynb   Untitled82.ipynb\n",
      " README.md                        Untitled43.ipynb   Untitled83.ipynb\n",
      " sample-code.ipynb                Untitled44.ipynb   Untitled84.ipynb\n",
      " specialmagicdundermethod.ipynb   Untitled45.ipynb   Untitled85.ipynb\n",
      " staticmethod.ipynb               Untitled46.ipynb   Untitled86.ipynb\n",
      " test1.txt                        Untitled47.ipynb   Untitled8.ipynb\n",
      " test3.txt                        Untitled48.ipynb   Untitled9.ipynb\n",
      " test.text                        Untitled49.ipynb  \u001b[0m\u001b[01;34m'Untitled Folder'\u001b[0m/\n",
      " test.txt                         Untitled4.ipynb    Untitled.ipynb\n",
      " Untitled10.ipynb                 Untitled50.ipynb   workingwithefilee.ipynb\n",
      " Untitled11.ipynb                 Untitled51.ipynb   workingwithfile.ipynb\n",
      " Untitled12.ipynb                 Untitled52.ipynb\n"
     ]
    }
   ],
   "source": [
    "ls"
   ]
  },
  {
   "cell_type": "code",
   "execution_count": 49,
   "id": "5c16dbc2-5a33-4d8e-8db1-1b136c99b885",
   "metadata": {},
   "outputs": [
    {
     "data": {
      "text/plain": [
       "17"
      ]
     },
     "execution_count": 49,
     "metadata": {},
     "output_type": "execute_result"
    }
   ],
   "source": [
    "f.write(\"i am amit chauhan\")"
   ]
  },
  {
   "cell_type": "code",
   "execution_count": 50,
   "id": "bc858199-c70d-4bb2-afc9-772f58422113",
   "metadata": {},
   "outputs": [],
   "source": [
    "f.close()"
   ]
  },
  {
   "cell_type": "code",
   "execution_count": 51,
   "id": "dd77de33-caa1-4680-b0a4-9d85f10b8ee0",
   "metadata": {},
   "outputs": [],
   "source": [
    "#writelines(): This function is used to write a list of strings to a file. Each string in the list is written as a separate line in the file.\n",
    "f=open(\"test4.txt\",'w')"
   ]
  },
  {
   "cell_type": "code",
   "execution_count": 52,
   "id": "6bae9e8f-ffaf-4281-a471-10f4592f1591",
   "metadata": {},
   "outputs": [
    {
     "data": {
      "text/plain": [
       "'/home/jovyan/work'"
      ]
     },
     "execution_count": 52,
     "metadata": {},
     "output_type": "execute_result"
    }
   ],
   "source": [
    "pwd"
   ]
  },
  {
   "cell_type": "code",
   "execution_count": 53,
   "id": "91e62a5f-b459-4414-92ad-869bca6485c4",
   "metadata": {},
   "outputs": [
    {
     "name": "stdout",
     "output_type": "stream",
     "text": [
      " 10febassingment.ipynb            Untitled12.ipynb   Untitled52.ipynb\n",
      " 2febassmntloop.ipynb             Untitled13.ipynb   Untitled53.ipynb\n",
      " 2febloopasss.ipynb               Untitled14.ipynb   Untitled54.ipynb\n",
      " 2ndfebaasloop.ipynb              Untitled15.ipynb   Untitled55.ipynb\n",
      " 2ndfebloopass.ipynb              Untitled16.ipynb   Untitled56.ipynb\n",
      " 2ndfebloop.ipynb                 Untitled17.ipynb   Untitled57.ipynb\n",
      " 30janassmnt.ipynb                Untitled18.ipynb   Untitled58.ipynb\n",
      " 3febass.ipynb                    Untitled19.ipynb   Untitled59.ipynb\n",
      " 4febass.ipynb                    Untitled1.ipynb    Untitled5.ipynb\n",
      " 5febass.ipynb                    Untitled20.ipynb   Untitled60.ipynb\n",
      "'  6 febassing.ipynb'             Untitled21.ipynb   Untitled61.ipynb\n",
      " 7febassingment.ipynb             Untitled22.ipynb   Untitled62.ipynb\n",
      " 8febassingment.ipynb             Untitled23.ipynb   Untitled63.ipynb\n",
      " 9febassingment.ipynb             Untitled24.ipynb   Untitled64.ipynb\n",
      " abstraction.ipynb                Untitled25.ipynb   Untitled65.ipynb\n",
      " classmethods.ipynb               Untitled26.ipynb   Untitled66.ipynb\n",
      " classoops.ipynb                  Untitled27.ipynb   Untitled67.ipynb\n",
      " collegetimepas.ipynb             Untitled28.ipynb   Untitled68.ipynb\n",
      " comprahension.ipynb              Untitled29.ipynb   Untitled69.ipynb\n",
      " controlstatement.ipynb           Untitled2.ipynb    Untitled6.ipynb\n",
      " decorater.ipynb                  Untitled30.ipynb   Untitled70.ipynb\n",
      " encapsulation.ipynb              Untitled31.ipynb   Untitled71.ipynb\n",
      " example.txt                      Untitled32.ipynb   Untitled72.ipynb\n",
      " fact.ipynb                       Untitled33.ipynb   Untitled73.ipynb\n",
      " function.ipynb                   Untitled34.ipynb   Untitled74.ipynb\n",
      " generatorfunction.ipynb          Untitled35.ipynb   Untitled75.ipynb\n",
      " inheritance.ipynb                Untitled36.ipynb   Untitled76.ipynb\n",
      " lamdafunction.ipynb              Untitled37.ipynb   Untitled77.ipynb\n",
      " loop.ipynb                       Untitled38.ipynb   Untitled78.ipynb\n",
      " mapreduceflterfunction.ipynb     Untitled39.ipynb   Untitled79.ipynb\n",
      " polymorphism.ipynb               Untitled3.ipynb    Untitled7.ipynb\n",
      " propertydecorators.ipynb         Untitled40.ipynb   Untitled80.ipynb\n",
      " python.dict                      Untitled41.ipynb   Untitled81.ipynb\n",
      " README.md                        Untitled42.ipynb   Untitled82.ipynb\n",
      " sample-code.ipynb                Untitled43.ipynb   Untitled83.ipynb\n",
      " specialmagicdundermethod.ipynb   Untitled44.ipynb   Untitled84.ipynb\n",
      " staticmethod.ipynb               Untitled45.ipynb   Untitled85.ipynb\n",
      " test1.txt                        Untitled46.ipynb   Untitled86.ipynb\n",
      " test3.txt                        Untitled47.ipynb   Untitled8.ipynb\n",
      " test4.txt                        Untitled48.ipynb   Untitled9.ipynb\n",
      " test.text                        Untitled49.ipynb  \u001b[0m\u001b[01;34m'Untitled Folder'\u001b[0m/\n",
      " test.txt                         Untitled4.ipynb    Untitled.ipynb\n",
      " Untitled10.ipynb                 Untitled50.ipynb   workingwithefilee.ipynb\n",
      " Untitled11.ipynb                 Untitled51.ipynb   workingwithfile.ipynb\n"
     ]
    }
   ],
   "source": [
    "ls"
   ]
  },
  {
   "cell_type": "code",
   "execution_count": 55,
   "id": "0be30370-d877-4f17-9b9a-ac16a11dd035",
   "metadata": {},
   "outputs": [],
   "source": [
    "lines=[\"amiiiit\",\"chauhann\"]"
   ]
  },
  {
   "cell_type": "code",
   "execution_count": 56,
   "id": "98fcf1bd-c379-40e7-bc72-f4cfff78c117",
   "metadata": {},
   "outputs": [],
   "source": [
    "f.writelines(lines)"
   ]
  },
  {
   "cell_type": "code",
   "execution_count": 57,
   "id": "003b745f-0473-4a40-b1d7-1a35a31f1774",
   "metadata": {},
   "outputs": [],
   "source": [
    "f.close()"
   ]
  },
  {
   "cell_type": "code",
   "execution_count": null,
   "id": "66c195e1-bfb7-43f7-af58-82dfe15e6685",
   "metadata": {},
   "outputs": [],
   "source": []
  }
 ],
 "metadata": {
  "kernelspec": {
   "display_name": "Python 3 (ipykernel)",
   "language": "python",
   "name": "python3"
  },
  "language_info": {
   "codemirror_mode": {
    "name": "ipython",
    "version": 3
   },
   "file_extension": ".py",
   "mimetype": "text/x-python",
   "name": "python",
   "nbconvert_exporter": "python",
   "pygments_lexer": "ipython3",
   "version": "3.10.8"
  }
 },
 "nbformat": 4,
 "nbformat_minor": 5
}
