{
 "cells": [
  {
   "cell_type": "code",
   "execution_count": 1,
   "id": "7b34517a-dd7b-4104-b11b-6c6d31d6d6bc",
   "metadata": {},
   "outputs": [],
   "source": [
    "import pandas as pd\n",
    "df = pd.DataFrame( {'course_name' : ['course_name'], 'duration' : ['duration']})"
   ]
  },
  {
   "cell_type": "code",
   "execution_count": 6,
   "id": "51ac99ab-2dbc-4672-ac8a-868cd6f3619f",
   "metadata": {},
   "outputs": [
    {
     "data": {
      "text/html": [
       "<div>\n",
       "<style scoped>\n",
       "    .dataframe tbody tr th:only-of-type {\n",
       "        vertical-align: middle;\n",
       "    }\n",
       "\n",
       "    .dataframe tbody tr th {\n",
       "        vertical-align: top;\n",
       "    }\n",
       "\n",
       "    .dataframe thead th {\n",
       "        text-align: right;\n",
       "    }\n",
       "</style>\n",
       "<table border=\"1\" class=\"dataframe\">\n",
       "  <thead>\n",
       "    <tr style=\"text-align: right;\">\n",
       "      <th></th>\n",
       "      <th>course_name</th>\n",
       "      <th>duration</th>\n",
       "    </tr>\n",
       "  </thead>\n",
       "  <tbody>\n",
       "    <tr>\n",
       "      <th>0</th>\n",
       "      <td>course_name</td>\n",
       "      <td>duration</td>\n",
       "    </tr>\n",
       "  </tbody>\n",
       "</table>\n",
       "</div>"
      ],
      "text/plain": [
       "   course_name  duration\n",
       "0  course_name  duration"
      ]
     },
     "execution_count": 6,
     "metadata": {},
     "output_type": "execute_result"
    }
   ],
   "source": [
    "df"
   ]
  },
  {
   "cell_type": "code",
   "execution_count": null,
   "id": "ac01f528-1dde-4643-852a-e466ff5fa690",
   "metadata": {},
   "outputs": [],
   "source": [
    "#The loc() function is label based data selecting method which means that we have to pass the name of the row or column which we want to select.\n",
    "#This method includes the last element of the range passed in it, unlike iloc(). loc() can accept the boolean data unlike iloc(). \n",
    "\n",
    "#The iloc() function is an indexed-based selecting method which means that we have to pass an integer index in the method to select a specific row/column. \n",
    "#This method does not include the last element of the range passed in it unlike loc(). iloc() does not accept the boolean data unlike loc().\n",
    "\n"
   ]
  },
  {
   "cell_type": "code",
   "execution_count": 17,
   "id": "82e26e9e-8b97-442a-9dde-d26e81ffdc99",
   "metadata": {},
   "outputs": [],
   "source": [
    "data={'a':[1,2,3,4],'b':[10,30,40,50],'c':[6,7,8,9]}"
   ]
  },
  {
   "cell_type": "code",
   "execution_count": 18,
   "id": "fd9374c3-25aa-4deb-94e2-66f01a999267",
   "metadata": {},
   "outputs": [],
   "source": [
    "df=pd.DataFrame(data)"
   ]
  },
  {
   "cell_type": "code",
   "execution_count": 25,
   "id": "9aeff9f9-318d-4258-a9be-ee7f44d48918",
   "metadata": {},
   "outputs": [
    {
     "data": {
      "text/html": [
       "<div>\n",
       "<style scoped>\n",
       "    .dataframe tbody tr th:only-of-type {\n",
       "        vertical-align: middle;\n",
       "    }\n",
       "\n",
       "    .dataframe tbody tr th {\n",
       "        vertical-align: top;\n",
       "    }\n",
       "\n",
       "    .dataframe thead th {\n",
       "        text-align: right;\n",
       "    }\n",
       "</style>\n",
       "<table border=\"1\" class=\"dataframe\">\n",
       "  <thead>\n",
       "    <tr style=\"text-align: right;\">\n",
       "      <th></th>\n",
       "      <th>a</th>\n",
       "      <th>b</th>\n",
       "      <th>c</th>\n",
       "    </tr>\n",
       "  </thead>\n",
       "  <tbody>\n",
       "    <tr>\n",
       "      <th>0</th>\n",
       "      <td>1</td>\n",
       "      <td>10</td>\n",
       "      <td>6</td>\n",
       "    </tr>\n",
       "    <tr>\n",
       "      <th>1</th>\n",
       "      <td>2</td>\n",
       "      <td>30</td>\n",
       "      <td>7</td>\n",
       "    </tr>\n",
       "    <tr>\n",
       "      <th>2</th>\n",
       "      <td>3</td>\n",
       "      <td>40</td>\n",
       "      <td>8</td>\n",
       "    </tr>\n",
       "    <tr>\n",
       "      <th>3</th>\n",
       "      <td>4</td>\n",
       "      <td>50</td>\n",
       "      <td>9</td>\n",
       "    </tr>\n",
       "  </tbody>\n",
       "</table>\n",
       "</div>"
      ],
      "text/plain": [
       "   a   b  c\n",
       "0  1  10  6\n",
       "1  2  30  7\n",
       "2  3  40  8\n",
       "3  4  50  9"
      ]
     },
     "execution_count": 25,
     "metadata": {},
     "output_type": "execute_result"
    }
   ],
   "source": [
    "df"
   ]
  },
  {
   "cell_type": "code",
   "execution_count": 33,
   "id": "deb9af88-59dc-42f3-a184-c4c697b016fb",
   "metadata": {},
   "outputs": [],
   "source": [
    "reindex=[3,0,1,2]"
   ]
  },
  {
   "cell_type": "code",
   "execution_count": 34,
   "id": "93da2e67-e37e-4e03-8516-822b07555f8c",
   "metadata": {},
   "outputs": [],
   "source": [
    "new_df=df.reindex(reindex)"
   ]
  },
  {
   "cell_type": "code",
   "execution_count": 28,
   "id": "bc65bd0c-d1af-4bf5-8261-f0f539978219",
   "metadata": {},
   "outputs": [
    {
     "data": {
      "text/html": [
       "<div>\n",
       "<style scoped>\n",
       "    .dataframe tbody tr th:only-of-type {\n",
       "        vertical-align: middle;\n",
       "    }\n",
       "\n",
       "    .dataframe tbody tr th {\n",
       "        vertical-align: top;\n",
       "    }\n",
       "\n",
       "    .dataframe thead th {\n",
       "        text-align: right;\n",
       "    }\n",
       "</style>\n",
       "<table border=\"1\" class=\"dataframe\">\n",
       "  <thead>\n",
       "    <tr style=\"text-align: right;\">\n",
       "      <th></th>\n",
       "      <th>a</th>\n",
       "      <th>b</th>\n",
       "      <th>c</th>\n",
       "    </tr>\n",
       "  </thead>\n",
       "  <tbody>\n",
       "    <tr>\n",
       "      <th>3</th>\n",
       "      <td>4</td>\n",
       "      <td>50</td>\n",
       "      <td>9</td>\n",
       "    </tr>\n",
       "    <tr>\n",
       "      <th>0</th>\n",
       "      <td>1</td>\n",
       "      <td>10</td>\n",
       "      <td>6</td>\n",
       "    </tr>\n",
       "    <tr>\n",
       "      <th>1</th>\n",
       "      <td>2</td>\n",
       "      <td>30</td>\n",
       "      <td>7</td>\n",
       "    </tr>\n",
       "    <tr>\n",
       "      <th>2</th>\n",
       "      <td>3</td>\n",
       "      <td>40</td>\n",
       "      <td>8</td>\n",
       "    </tr>\n",
       "  </tbody>\n",
       "</table>\n",
       "</div>"
      ],
      "text/plain": [
       "   a   b  c\n",
       "3  4  50  9\n",
       "0  1  10  6\n",
       "1  2  30  7\n",
       "2  3  40  8"
      ]
     },
     "execution_count": 28,
     "metadata": {},
     "output_type": "execute_result"
    }
   ],
   "source": [
    "new_df"
   ]
  },
  {
   "cell_type": "code",
   "execution_count": 45,
   "id": "5636d7d7-e35b-4cb1-a8e7-4d77c36f1df6",
   "metadata": {},
   "outputs": [],
   "source": [
    "loc=new_df.loc[2]"
   ]
  },
  {
   "cell_type": "code",
   "execution_count": 46,
   "id": "648ed69b-d568-4a73-92f2-daf2b183dbe0",
   "metadata": {},
   "outputs": [
    {
     "data": {
      "text/plain": [
       "a     3\n",
       "b    40\n",
       "c     8\n",
       "Name: 2, dtype: int64"
      ]
     },
     "execution_count": 46,
     "metadata": {},
     "output_type": "execute_result"
    }
   ],
   "source": [
    "loc"
   ]
  },
  {
   "cell_type": "code",
   "execution_count": 47,
   "id": "3ead12da-a2d6-411b-afc5-2cda2310f2fc",
   "metadata": {},
   "outputs": [],
   "source": [
    "iloc=new_df.iloc[2]"
   ]
  },
  {
   "cell_type": "code",
   "execution_count": 48,
   "id": "8fab741e-6026-42b1-8859-287cbfb5b306",
   "metadata": {},
   "outputs": [
    {
     "data": {
      "text/plain": [
       "a     2\n",
       "b    30\n",
       "c     7\n",
       "Name: 1, dtype: int64"
      ]
     },
     "execution_count": 48,
     "metadata": {},
     "output_type": "execute_result"
    }
   ],
   "source": [
    "iloc"
   ]
  },
  {
   "cell_type": "code",
   "execution_count": null,
   "id": "12643f0d-ea64-432f-91bd-915e2fd2b88a",
   "metadata": {},
   "outputs": [],
   "source": [
    "#there are a difference in both of them one is taking data basis on the their indexes and other one is taking data from based on index name"
   ]
  },
  {
   "cell_type": "code",
   "execution_count": 169,
   "id": "3b899897-5cc5-4355-a28c-8d7f1251bfb5",
   "metadata": {},
   "outputs": [],
   "source": [
    "import numpy as np\n",
    "columns = ['column_1', 'column_2', 'column_3', 'column_4', 'column_5', 'column_6']\n",
    "indices = [1,2,3,4,5,6]\n",
    "#Creating a dataframe:\n",
    "df1 = pd.DataFrame(np.random.rand(6,6), columns = columns, index = indices)"
   ]
  },
  {
   "cell_type": "code",
   "execution_count": 170,
   "id": "99a3f660-634b-439b-b158-1d28c7a48aed",
   "metadata": {},
   "outputs": [
    {
     "data": {
      "text/html": [
       "<div>\n",
       "<style scoped>\n",
       "    .dataframe tbody tr th:only-of-type {\n",
       "        vertical-align: middle;\n",
       "    }\n",
       "\n",
       "    .dataframe tbody tr th {\n",
       "        vertical-align: top;\n",
       "    }\n",
       "\n",
       "    .dataframe thead th {\n",
       "        text-align: right;\n",
       "    }\n",
       "</style>\n",
       "<table border=\"1\" class=\"dataframe\">\n",
       "  <thead>\n",
       "    <tr style=\"text-align: right;\">\n",
       "      <th></th>\n",
       "      <th>column_1</th>\n",
       "      <th>column_2</th>\n",
       "      <th>column_3</th>\n",
       "      <th>column_4</th>\n",
       "      <th>column_5</th>\n",
       "      <th>column_6</th>\n",
       "    </tr>\n",
       "  </thead>\n",
       "  <tbody>\n",
       "    <tr>\n",
       "      <th>1</th>\n",
       "      <td>0.031207</td>\n",
       "      <td>0.489735</td>\n",
       "      <td>0.749977</td>\n",
       "      <td>0.022535</td>\n",
       "      <td>0.040570</td>\n",
       "      <td>0.807889</td>\n",
       "    </tr>\n",
       "    <tr>\n",
       "      <th>2</th>\n",
       "      <td>0.121483</td>\n",
       "      <td>0.579359</td>\n",
       "      <td>0.488182</td>\n",
       "      <td>0.760341</td>\n",
       "      <td>0.577035</td>\n",
       "      <td>0.929222</td>\n",
       "    </tr>\n",
       "    <tr>\n",
       "      <th>3</th>\n",
       "      <td>0.674692</td>\n",
       "      <td>0.184552</td>\n",
       "      <td>0.174324</td>\n",
       "      <td>0.524752</td>\n",
       "      <td>0.895209</td>\n",
       "      <td>0.084139</td>\n",
       "    </tr>\n",
       "    <tr>\n",
       "      <th>4</th>\n",
       "      <td>0.519688</td>\n",
       "      <td>0.927760</td>\n",
       "      <td>0.095057</td>\n",
       "      <td>0.970298</td>\n",
       "      <td>0.756511</td>\n",
       "      <td>0.499820</td>\n",
       "    </tr>\n",
       "    <tr>\n",
       "      <th>5</th>\n",
       "      <td>0.392200</td>\n",
       "      <td>0.665120</td>\n",
       "      <td>0.136017</td>\n",
       "      <td>0.076102</td>\n",
       "      <td>0.053211</td>\n",
       "      <td>0.681290</td>\n",
       "    </tr>\n",
       "    <tr>\n",
       "      <th>6</th>\n",
       "      <td>0.826173</td>\n",
       "      <td>0.991729</td>\n",
       "      <td>0.784738</td>\n",
       "      <td>0.080764</td>\n",
       "      <td>0.620737</td>\n",
       "      <td>0.324883</td>\n",
       "    </tr>\n",
       "  </tbody>\n",
       "</table>\n",
       "</div>"
      ],
      "text/plain": [
       "   column_1  column_2  column_3  column_4  column_5  column_6\n",
       "1  0.031207  0.489735  0.749977  0.022535  0.040570  0.807889\n",
       "2  0.121483  0.579359  0.488182  0.760341  0.577035  0.929222\n",
       "3  0.674692  0.184552  0.174324  0.524752  0.895209  0.084139\n",
       "4  0.519688  0.927760  0.095057  0.970298  0.756511  0.499820\n",
       "5  0.392200  0.665120  0.136017  0.076102  0.053211  0.681290\n",
       "6  0.826173  0.991729  0.784738  0.080764  0.620737  0.324883"
      ]
     },
     "execution_count": 170,
     "metadata": {},
     "output_type": "execute_result"
    }
   ],
   "source": [
    "df1"
   ]
  },
  {
   "cell_type": "code",
   "execution_count": 171,
   "id": "26ec4de3-ef46-4fb9-b519-e729e7c4398d",
   "metadata": {},
   "outputs": [
    {
     "data": {
      "text/plain": [
       "column_1    0.427574\n",
       "column_2    0.639709\n",
       "column_3    0.404716\n",
       "column_4    0.405799\n",
       "column_5    0.490545\n",
       "column_6    0.554540\n",
       "dtype: float64"
      ]
     },
     "execution_count": 171,
     "metadata": {},
     "output_type": "execute_result"
    }
   ],
   "source": [
    "df1.mean()"
   ]
  },
  {
   "cell_type": "code",
   "execution_count": 172,
   "id": "f308be7e-f8a7-49a1-b2c9-c05d5bccce8e",
   "metadata": {},
   "outputs": [
    {
     "data": {
      "text/plain": [
       "0.2969307343845272"
      ]
     },
     "execution_count": 172,
     "metadata": {},
     "output_type": "execute_result"
    }
   ],
   "source": [
    "df1.column_2.std()"
   ]
  },
  {
   "cell_type": "code",
   "execution_count": 184,
   "id": "de48bb7f-5758-4a4a-95c5-7c6d0692232c",
   "metadata": {},
   "outputs": [],
   "source": [
    "df1.loc[df1['column_2']==0.489735,'column_2']=4"
   ]
  },
  {
   "cell_type": "code",
   "execution_count": 185,
   "id": "baedffb6-4b99-4e1f-907f-9093142f8257",
   "metadata": {},
   "outputs": [],
   "source": [
    "#In pandas, the \"window functions\" refer to a class of functions that operate on a set of data points called a \"window,\"\n",
    "#which is defined by a specific number of rows or a range of rows within a DataFrame. \n",
    "#These functions are also known as \"rolling\" or \"expanding\" functions, and they are useful for \n",
    "#performing calculations over a sliding or expanding window of data. Window functions are commonly used in time series analysis and data smoothing."
   ]
  },
  {
   "cell_type": "code",
   "execution_count": null,
   "id": "64bd0462-4536-41d2-8043-b37f35cc598f",
   "metadata": {},
   "outputs": [],
   "source": []
  },
  {
   "cell_type": "code",
   "execution_count": 1,
   "id": "5a37f67a-0320-45e3-ae42-1f87388fa819",
   "metadata": {},
   "outputs": [
    {
     "name": "stdout",
     "output_type": "stream",
     "text": [
      "Welcome to the date difference calculator!\n",
      "Please  enter two dates in the format YYYY-MM-DD.\n"
     ]
    },
    {
     "name": "stdin",
     "output_type": "stream",
     "text": [
      "Enter the start date:  2022-02-22\n",
      "Enter the end date:  2022-03-11\n"
     ]
    },
    {
     "name": "stdout",
     "output_type": "stream",
     "text": [
      "\n",
      "Difference between 2022-02-22 and 2022-03-11:\n",
      "Days: 17\n",
      "Hours: 0\n",
      "Minutes: 0\n"
     ]
    }
   ],
   "source": [
    "import pandas as pd\n",
    "\n",
    "def get_date_input(prompt):\n",
    "    while True:\n",
    "        date_input = input(prompt)\n",
    "        try:\n",
    "            # Check if the input can be parsed as a valid date\n",
    "            pd.to_datetime(date_input)\n",
    "            return date_input\n",
    "        except ValueError:\n",
    "            print(\"Invalid date format. Please enter a date in the format YYYY-MM-DD.\")\n",
    "\n",
    "def calculate_time_difference(start_date, end_date):\n",
    "    start_datetime = pd.to_datetime(start_date)\n",
    "    end_datetime = pd.to_datetime(end_date)\n",
    "    time_delta = end_datetime - start_datetime\n",
    "    return time_delta.days, time_delta.seconds // 3600, (time_delta.seconds // 60) % 60\n",
    "\n",
    "if __name__ == \"__main__\":\n",
    "    print(\"Welcome to the date difference calculator!\")\n",
    "    print(\"Please  enter two dates in the format YYYY-MM-DD.\")\n",
    "\n",
    "    start_date = get_date_input(\"Enter the start date: \")\n",
    "    end_date = get_date_input(\"Enter the end date: \")\n",
    "\n",
    "    days_diff, hours_diff, minutes_diff = calculate_time_difference(start_date, end_date)\n",
    "\n",
    "    print(f\"\\nDifference between {start_date} and {end_date}:\")\n",
    "    print(f\"Days: {days_diff}\")\n",
    "    print(f\"Hours: {hours_diff}\")\n",
    "    print(f\"Minutes: {minutes_diff}\")\n"
   ]
  },
  {
   "cell_type": "code",
   "execution_count": 1,
   "id": "771153e7-69ee-4140-a862-e8b856ab82c1",
   "metadata": {},
   "outputs": [
    {
     "name": "stdin",
     "output_type": "stream",
     "text": [
      "Enter the CSV file path:  https://raw.githubusercontent.com/datasciencedojo/datasets/master/titanic.csv\n",
      "Enter the name of the column to convert to categorical:  Sex\n",
      "Enter the categories separated by commas (e.g., cat,dog,bird):  male\n"
     ]
    },
    {
     "name": "stdout",
     "output_type": "stream",
     "text": [
      "\n",
      "Sorted Data:\n",
      "     PassengerId  Survived  Pclass  \\\n",
      "0              1         0       3   \n",
      "604          605         1       1   \n",
      "605          606         0       3   \n",
      "606          607         0       3   \n",
      "607          608         1       1   \n",
      "..           ...       ...     ...   \n",
      "880          881         1       2   \n",
      "882          883         0       3   \n",
      "885          886         0       3   \n",
      "887          888         1       1   \n",
      "888          889         0       3   \n",
      "\n",
      "                                             Name   Sex   Age  SibSp  Parch  \\\n",
      "0                         Braund, Mr. Owen Harris  male  22.0      1      0   \n",
      "604               Homer, Mr. Harry (\"Mr E Haven\")  male  35.0      0      0   \n",
      "605                 Lindell, Mr. Edvard Bengtsson  male  36.0      1      0   \n",
      "606                             Karaic, Mr. Milan  male  30.0      0      0   \n",
      "607                   Daniel, Mr. Robert Williams  male  27.0      0      0   \n",
      "..                                            ...   ...   ...    ...    ...   \n",
      "880  Shelley, Mrs. William (Imanita Parrish Hall)   NaN  25.0      0      1   \n",
      "882                  Dahlberg, Miss. Gerda Ulrika   NaN  22.0      0      0   \n",
      "885          Rice, Mrs. William (Margaret Norton)   NaN  39.0      0      5   \n",
      "887                  Graham, Miss. Margaret Edith   NaN  19.0      0      0   \n",
      "888      Johnston, Miss. Catherine Helen \"Carrie\"   NaN   NaN      1      2   \n",
      "\n",
      "         Ticket     Fare Cabin Embarked  \n",
      "0     A/5 21171   7.2500   NaN        S  \n",
      "604      111426  26.5500   NaN        C  \n",
      "605      349910  15.5500   NaN        S  \n",
      "606      349246   7.8958   NaN        S  \n",
      "607      113804  30.5000   NaN        S  \n",
      "..          ...      ...   ...      ...  \n",
      "880      230433  26.0000   NaN        S  \n",
      "882        7552  10.5167   NaN        S  \n",
      "885      382652  29.1250   NaN        Q  \n",
      "887      112053  30.0000   B42        S  \n",
      "888  W./C. 6607  23.4500   NaN        S  \n",
      "\n",
      "[891 rows x 12 columns]\n"
     ]
    }
   ],
   "source": [
    "import pandas as pd\n",
    "\n",
    "def read_csv_and_convert_to_categorical():\n",
    "    # Prompt the user for file path, column name, and category order\n",
    "    file_path = input(\"Enter the CSV file path: \")\n",
    "    column_name = input(\"Enter the name of the column to convert to categorical: \")\n",
    "    categories = input(\"Enter the categories separated by commas (e.g., cat,dog,bird): \").split(\",\")\n",
    "\n",
    "    try:\n",
    "        # Read the CSV file\n",
    "        df = pd.read_csv(file_path)\n",
    "\n",
    "        # Convert the specified column to categorical data type with given category order\n",
    "        df[column_name] = pd.Categorical(df[column_name], categories=categories, ordered=True)\n",
    "\n",
    "        # Sort the DataFrame by the categorical column\n",
    "        df_sorted = df.sort_values(by=column_name)\n",
    "\n",
    "        # Display the sorted data\n",
    "        print(\"\\nSorted Data:\")\n",
    "        print(df_sorted)\n",
    "\n",
    "    except FileNotFoundError:\n",
    "        print(\"File not found. Please check the file path.\")\n",
    "    except KeyError:\n",
    "        print(f\"Column '{column_name}' not found in the CSV file.\")\n",
    "    except Exception as e:\n",
    "        print(f\"An error occurred: {e}\")\n",
    "\n",
    "if __name__ == \"__main__\":\n",
    "    read_csv_and_convert_to_categorical()\n"
   ]
  },
  {
   "cell_type": "code",
   "execution_count": null,
   "id": "cbb1a000-c14c-47f3-bb4f-7356e3d37aea",
   "metadata": {},
   "outputs": [],
   "source": [
    "\n",
    "\n",
    "\n"
   ]
  }
 ],
 "metadata": {
  "kernelspec": {
   "display_name": "Python 3 (ipykernel)",
   "language": "python",
   "name": "python3"
  },
  "language_info": {
   "codemirror_mode": {
    "name": "ipython",
    "version": 3
   },
   "file_extension": ".py",
   "mimetype": "text/x-python",
   "name": "python",
   "nbconvert_exporter": "python",
   "pygments_lexer": "ipython3",
   "version": "3.10.8"
  }
 },
 "nbformat": 4,
 "nbformat_minor": 5
}
