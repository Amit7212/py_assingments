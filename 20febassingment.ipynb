{
 "cells": [
  {
   "cell_type": "code",
   "execution_count": 1,
   "id": "f5e7bac3-0eb4-4821-802b-52af7e618f2e",
   "metadata": {},
   "outputs": [],
   "source": [
    "#HTTP GET: The Hypertext Transfer Protocol(HTTP) Get method is mainly used at the client (Browser) side to send a request \n",
    "#to a specified server to get certain data or resources. Using this method the server should only let us receive the data and not change its state.\n",
    "#Hence it is only used to view something and not to change it. Get method is one of the most used HTTP method.\n",
    "#The request parameter of the get method is appended to the URL. Get request is better for the data which does not need to be secure\n",
    "#(It means the data which does not contain images or word documents).\n",
    "\n",
    "#HTTP POST: The Hypertext Transfer Protocol(HTTP) Post method is mainly used at the client (Browser) side to send data\n",
    "#to a Specified 8server in order to create or rewrite a particular resource/data. This data sent to the server is stored in the request \n",
    "#body of the HTTP request. Post method eventually leads to the creation of a new resource or updating an existing one. Due to this dynamic use,\n",
    "#it is one of the most used HTTP methods. It is not one of the most secure methods because the data that is been sent is included\n",
    "#in the body of the request and not in the URL. Post request is better for the data which needs to be secure\n",
    "#(It means the data which contains images or word documents)."
   ]
  },
  {
   "cell_type": "code",
   "execution_count": 2,
   "id": "227780f2-065f-41e3-bb86-0266ce0ac567",
   "metadata": {},
   "outputs": [],
   "source": [
    "#In Flask, the request object is used to access and handle incoming client requests sent to a web server. \n",
    "#It represents the HTTP request made by a client, such as a web browser, and provides convenient methods and attributes to retrieve information\n",
    "#about the request.\n",
    "\n",
    "#Here are some reasons why the request object is used in Flask:\n",
    "\n",
    "#Accessing request data: The request object allows you to access various types of data sent by the client, such as form data, query parameters, \n",
    "#headers,\n",
    "#cookies, and uploaded files. It provides methods like request.form, request.args, request.headers, and request.cookies to access this data easily.\n",
    "\n",
    "#Processing user input: When building web applications, it's common to require user input for performing certain actions or generating dynamic content.\n",
    "#The request object allows you to retrieve data entered by users through HTML forms or passed as URL parameters. \n",
    "#You can use this data to process user input and perform the necessary operations."
   ]
  },
  {
   "cell_type": "code",
   "execution_count": 3,
   "id": "75d8b3a7-5c2f-4364-84f5-a3de446da031",
   "metadata": {},
   "outputs": [],
   "source": [
    "#The redirect() function takes a target URL or endpoint as an argument and returns a response to the client with a 302 status code, \n",
    "#indicating a temporary redirect. The client's web browser then makes a new request to the specified URL, and the corresponding view function\n",
    "#or route handler for that URL is invoked."
   ]
  },
  {
   "cell_type": "code",
   "execution_count": null,
   "id": "978d731a-8f48-4e9e-bbe9-f9d696d01678",
   "metadata": {},
   "outputs": [],
   "source": [
    "# Templates in Flask are files that contain HTML markup with placeholders for dynamic content. They allow you to separate the presentation logic \n",
    "#from the application logic, making it easier to maintain and update your web pages. Templates enable you to generate dynamic HTML pages by\n",
    "#inserting data from your Flask application into the placeholders.\n",
    "\n",
    "#The render_template() function in Flask is used to render templates and return the generated HTML as a response to the client.\n",
    "#It takes the name of the template file as an argument, along with any additional data you want to pass to the template."
   ]
  },
  {
   "cell_type": "code",
   "execution_count": null,
   "id": "647e530f-5f97-4183-9376-63bccf2af26e",
   "metadata": {},
   "outputs": [],
   "source": []
  }
 ],
 "metadata": {
  "kernelspec": {
   "display_name": "Python 3 (ipykernel)",
   "language": "python",
   "name": "python3"
  },
  "language_info": {
   "codemirror_mode": {
    "name": "ipython",
    "version": 3
   },
   "file_extension": ".py",
   "mimetype": "text/x-python",
   "name": "python",
   "nbconvert_exporter": "python",
   "pygments_lexer": "ipython3",
   "version": "3.10.8"
  }
 },
 "nbformat": 4,
 "nbformat_minor": 5
}
