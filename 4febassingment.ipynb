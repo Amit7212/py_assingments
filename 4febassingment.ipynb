{
 "cells": [
  {
   "cell_type": "code",
   "execution_count": 1,
   "id": "fc53ccb7-febd-4f28-a8a8-1732f86f39e3",
   "metadata": {},
   "outputs": [],
   "source": [
    "#def keyword is used to create a function\n",
    "def odd():\n",
    "    l=[]\n",
    "    for i in range(25):\n",
    "        if(i%2!=0):\n",
    "            l.append(i)\n",
    "    return l\n",
    "            "
   ]
  },
  {
   "cell_type": "code",
   "execution_count": 2,
   "id": "a2748dbe-ee5b-4d78-9adb-966e9e173fdc",
   "metadata": {},
   "outputs": [
    {
     "data": {
      "text/plain": [
       "[1, 3, 5, 7, 9, 11, 13, 15, 17, 19, 21, 23]"
      ]
     },
     "execution_count": 2,
     "metadata": {},
     "output_type": "execute_result"
    }
   ],
   "source": [
    "odd()"
   ]
  },
  {
   "cell_type": "code",
   "execution_count": 3,
   "id": "5ea5fc19-faf0-4731-8a5d-58b9c95f6664",
   "metadata": {},
   "outputs": [
    {
     "name": "stdout",
     "output_type": "stream",
     "text": [
      "First argument : Hello\n",
      "Next argument through *argv : Welcome\n",
      "Next argument through *argv : to\n",
      "Next argument through *argv : GeeksforGeeks\n"
     ]
    }
   ],
   "source": [
    "#What is Python *args?\n",
    "#The special syntax *args in function definitions in Python is used to pass a variable number of arguments to a function.\n",
    "#It is used to pass a non-keyworded, variable-length argument list. \n",
    "def myFun(arg1, *argv):\n",
    "\tprint(\"First argument :\", arg1)\n",
    "\tfor arg in argv:\n",
    "\t\tprint(\"Next argument through *argv :\", arg)\n",
    "\n",
    "\n",
    "myFun('Hello', 'Welcome', 'to', 'GeeksforGeeks')"
   ]
  },
  {
   "cell_type": "code",
   "execution_count": 5,
   "id": "b8245cbb-493a-4752-91b2-b31b3edfdda5",
   "metadata": {},
   "outputs": [
    {
     "name": "stdout",
     "output_type": "stream",
     "text": [
      "first == amit\n",
      "mid == kumar\n",
      "last == chauhan\n"
     ]
    }
   ],
   "source": [
    "#What is Python **kwargs?\n",
    "#The special syntax **kwargs in function definitions in Python is used to pass a keyworded, variable-length argument list.\n",
    "#We use the name kwargs with the double star. \n",
    "#The reason is that the double star allows us to pass through keyword arguments (and any number of them).\n",
    "def myFun(**kwargs):\n",
    "\tfor key, value in kwargs.items():\n",
    "\t\tprint(\"%s == %s\" % (key, value))\n",
    "\n",
    "\n",
    "# Driver code\n",
    "myFun(first='amit', mid='kumar', last='chauhan')\n"
   ]
  },
  {
   "cell_type": "code",
   "execution_count": 6,
   "id": "abdd95e6-8d86-4fa9-b1e1-3d393bf77bce",
   "metadata": {},
   "outputs": [
    {
     "name": "stdout",
     "output_type": "stream",
     "text": [
      "2\n",
      "4\n",
      "6\n",
      "8\n",
      "10\n"
     ]
    }
   ],
   "source": [
    "#An iterator in Python is an object that is used to iterate over iterable objects like lists, tuples, dicts, and sets. \n",
    "#The Python iterators object is initialized using the iter() method.\n",
    "#It uses the next() method for iteration.\n",
    "#iter() method id used\n",
    "lis1 = [2,4,6,8,10,12,14,16,18,20]\n",
    "lis1 = iter(lis1)\n",
    "print(next(lis1))\n",
    "print(next(lis1))\n",
    "print(next(lis1))\n",
    "print(next(lis1))\n",
    "print(next(lis1))"
   ]
  },
  {
   "cell_type": "code",
   "execution_count": 7,
   "id": "48cf7e60-3162-409c-aeee-2d14eee99bb1",
   "metadata": {},
   "outputs": [],
   "source": [
    "#Generator-Function: A generator-function is defined like a normal function,\n",
    "#but whenever it needs to generate a value, it does so with the yield keyword rather than return.\n",
    "#If the body of a def contains yield, the function automatically becomes a generator function\n",
    "#yield keyword is used to create a generator function. \n",
    "#A type of function that is memory efficient and can be used like an iterator object.\n",
    "def test_fib(n):\n",
    "    a,b=0,1\n",
    "    for i in range (n):\n",
    "        yield a\n",
    "        a,b=b,a+b"
   ]
  },
  {
   "cell_type": "code",
   "execution_count": 8,
   "id": "5e5e8f14-6cdd-40f4-a3e8-482fff63a7d0",
   "metadata": {},
   "outputs": [
    {
     "name": "stdout",
     "output_type": "stream",
     "text": [
      "0\n",
      "1\n",
      "1\n",
      "2\n",
      "3\n",
      "5\n",
      "8\n",
      "13\n",
      "21\n",
      "34\n"
     ]
    }
   ],
   "source": [
    "for i in test_fib(10):\n",
    "    \n",
    "    print(i)"
   ]
  },
  {
   "cell_type": "code",
   "execution_count": 10,
   "id": "3e6d4767-4698-4640-ab05-53c6a5e6b934",
   "metadata": {},
   "outputs": [],
   "source": [
    "def isPrime(num):\n",
    "    for i in range(2,num):\n",
    "        if num%i==0:\n",
    "            return False\n",
    "    return True\n",
    "def primeGenerator(n):\n",
    "    num=2\n",
    "    while n:\n",
    "        if isPrime(num):\n",
    "            yield num\n",
    "            n=n-1\n",
    "        num=num+1\n",
    "    return"
   ]
  },
  {
   "cell_type": "code",
   "execution_count": 11,
   "id": "353bed1d-f70c-47a2-a9cf-1cc42296ae5a",
   "metadata": {},
   "outputs": [
    {
     "name": "stdout",
     "output_type": "stream",
     "text": [
      "2 3 5 7 11 13 17 19 23 29 31 37 41 43 47 53 59 61 67 71 "
     ]
    }
   ],
   "source": [
    "it=primeGenerator(20)\n",
    "for e in it:\n",
    "    print(e,end=' ')"
   ]
  },
  {
   "cell_type": "code",
   "execution_count": 29,
   "id": "d0cba8e4-ab7d-48a1-85ed-8692a1d41f68",
   "metadata": {},
   "outputs": [],
   "source": [
    "def test_fib1():\n",
    "    a,b=0,1\n",
    "    while True:\n",
    "        yield a\n",
    "        a,b=b,a+b"
   ]
  },
  {
   "cell_type": "code",
   "execution_count": 30,
   "id": "c8818a55-3919-4489-a845-cb7968299fc0",
   "metadata": {},
   "outputs": [],
   "source": [
    "fib=test_fib1()"
   ]
  },
  {
   "cell_type": "code",
   "execution_count": 31,
   "id": "106ff801-42bf-4c7b-a9e3-b2a1f373fc39",
   "metadata": {},
   "outputs": [
    {
     "name": "stdout",
     "output_type": "stream",
     "text": [
      "0\n",
      "1\n",
      "1\n",
      "2\n",
      "3\n",
      "5\n",
      "8\n",
      "13\n",
      "21\n",
      "34\n"
     ]
    }
   ],
   "source": [
    "for i in range(10):\n",
    "    print(next(fib))"
   ]
  },
  {
   "cell_type": "code",
   "execution_count": 6,
   "id": "cd849d8c-e9e3-4b56-b3a4-63a93714fa1b",
   "metadata": {},
   "outputs": [],
   "source": [
    "s=\"pwskills\""
   ]
  },
  {
   "cell_type": "code",
   "execution_count": 11,
   "id": "aedb2ee9-79d8-483c-8426-958995553726",
   "metadata": {},
   "outputs": [
    {
     "data": {
      "text/plain": [
       "['p', 'w', 's', 'k', 'i', 'l', 'l', 's']"
      ]
     },
     "execution_count": 11,
     "metadata": {},
     "output_type": "execute_result"
    }
   ],
   "source": [
    "[i for i in s]                         "
   ]
  },
  {
   "cell_type": "code",
   "execution_count": 26,
   "id": "aff050de-8f6e-4a62-a334-9480b05c95e0",
   "metadata": {},
   "outputs": [
    {
     "name": "stdin",
     "output_type": "stream",
     "text": [
      "enter the number 22\n"
     ]
    },
    {
     "name": "stdout",
     "output_type": "stream",
     "text": [
      "palindrome number\n"
     ]
    }
   ],
   "source": [
    "i=int(input(\"enter the number\"))\n",
    "x=i\n",
    "rev=0\n",
    "while (i>0):\n",
    "    rev=rev*10+i%10\n",
    "    i=i//10\n",
    "if(x==rev):\n",
    "    print(\"palindrome number\")\n",
    "else :\n",
    "    print(\"not palindrome\")\n",
    "         "
   ]
  },
  {
   "cell_type": "code",
   "execution_count": 50,
   "id": "ac94a2a3-d99b-4bf8-9abd-142ea16483ff",
   "metadata": {},
   "outputs": [
    {
     "data": {
      "text/plain": [
       "[1,\n",
       " 3,\n",
       " 5,\n",
       " 7,\n",
       " 9,\n",
       " 11,\n",
       " 13,\n",
       " 15,\n",
       " 17,\n",
       " 19,\n",
       " 21,\n",
       " 23,\n",
       " 25,\n",
       " 27,\n",
       " 29,\n",
       " 31,\n",
       " 33,\n",
       " 35,\n",
       " 37,\n",
       " 39,\n",
       " 41,\n",
       " 43,\n",
       " 45,\n",
       " 47,\n",
       " 49,\n",
       " 51,\n",
       " 53,\n",
       " 55,\n",
       " 57,\n",
       " 59,\n",
       " 61,\n",
       " 63,\n",
       " 65,\n",
       " 67,\n",
       " 69,\n",
       " 71,\n",
       " 73,\n",
       " 75,\n",
       " 77,\n",
       " 79,\n",
       " 81,\n",
       " 83,\n",
       " 85,\n",
       " 87,\n",
       " 89,\n",
       " 91,\n",
       " 93,\n",
       " 95,\n",
       " 97,\n",
       " 99]"
      ]
     },
     "execution_count": 50,
     "metadata": {},
     "output_type": "execute_result"
    }
   ],
   "source": [
    "[i for i in range(100) if i%2!=0]"
   ]
  },
  {
   "cell_type": "code",
   "execution_count": null,
   "id": "b5a28931-51ac-479d-b9eb-aa028afd80a7",
   "metadata": {},
   "outputs": [],
   "source": []
  }
 ],
 "metadata": {
  "kernelspec": {
   "display_name": "Python 3 (ipykernel)",
   "language": "python",
   "name": "python3"
  },
  "language_info": {
   "codemirror_mode": {
    "name": "ipython",
    "version": 3
   },
   "file_extension": ".py",
   "mimetype": "text/x-python",
   "name": "python",
   "nbconvert_exporter": "python",
   "pygments_lexer": "ipython3",
   "version": "3.10.8"
  }
 },
 "nbformat": 4,
 "nbformat_minor": 5
}
